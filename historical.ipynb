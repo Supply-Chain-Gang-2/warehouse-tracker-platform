{
 "metadata": {
  "language_info": {
   "codemirror_mode": {
    "name": "ipython",
    "version": 3
   },
   "file_extension": ".py",
   "mimetype": "text/x-python",
   "name": "python",
   "nbconvert_exporter": "python",
   "pygments_lexer": "ipython3",
   "version": "3.8.5"
  },
  "orig_nbformat": 2,
  "kernelspec": {
   "name": "python385jvsc74a57bd03ee6c8ef552e3d212b0758219aa708e2de866316e590ae56a215a93885898c74",
   "display_name": "Python 3.8.5 64-bit ('.venv': poetry)"
  },
  "metadata": {
   "interpreter": {
    "hash": "aee8b7b246df8f9039afb4144a1f6fd8d2ca17a180786b69acc140d282b71a49"
   }
  }
 },
 "nbformat": 4,
 "nbformat_minor": 2,
 "cells": [
  {
   "cell_type": "code",
   "execution_count": 1,
   "metadata": {},
   "outputs": [],
   "source": [
    "import pandas as pd"
   ]
  },
  {
   "cell_type": "code",
   "execution_count": 2,
   "metadata": {},
   "outputs": [
    {
     "output_type": "execute_result",
     "data": {
      "text/plain": [
       "          Item Month  Sales  Number per order\n",
       "0  Lawn Chairs   Jan      5              10.0\n",
       "1  Lawn Chairs   Feb      8               NaN\n",
       "2  Lawn Chairs   Mar     12               NaN\n",
       "3  Lawn Chairs   Apr     12               NaN\n",
       "4  Lawn Chairs   May     23               NaN"
      ],
      "text/html": "<div>\n<style scoped>\n    .dataframe tbody tr th:only-of-type {\n        vertical-align: middle;\n    }\n\n    .dataframe tbody tr th {\n        vertical-align: top;\n    }\n\n    .dataframe thead th {\n        text-align: right;\n    }\n</style>\n<table border=\"1\" class=\"dataframe\">\n  <thead>\n    <tr style=\"text-align: right;\">\n      <th></th>\n      <th>Item</th>\n      <th>Month</th>\n      <th>Sales</th>\n      <th>Number per order</th>\n    </tr>\n  </thead>\n  <tbody>\n    <tr>\n      <th>0</th>\n      <td>Lawn Chairs</td>\n      <td>Jan</td>\n      <td>5</td>\n      <td>10.0</td>\n    </tr>\n    <tr>\n      <th>1</th>\n      <td>Lawn Chairs</td>\n      <td>Feb</td>\n      <td>8</td>\n      <td>NaN</td>\n    </tr>\n    <tr>\n      <th>2</th>\n      <td>Lawn Chairs</td>\n      <td>Mar</td>\n      <td>12</td>\n      <td>NaN</td>\n    </tr>\n    <tr>\n      <th>3</th>\n      <td>Lawn Chairs</td>\n      <td>Apr</td>\n      <td>12</td>\n      <td>NaN</td>\n    </tr>\n    <tr>\n      <th>4</th>\n      <td>Lawn Chairs</td>\n      <td>May</td>\n      <td>23</td>\n      <td>NaN</td>\n    </tr>\n  </tbody>\n</table>\n</div>"
     },
     "metadata": {},
     "execution_count": 2
    }
   ],
   "source": [
    "history = pd.read_csv('./historical.csv')\n",
    "history.head()"
   ]
  },
  {
   "cell_type": "code",
   "execution_count": 8,
   "metadata": {},
   "outputs": [
    {
     "output_type": "execute_result",
     "data": {
      "text/plain": [
       "Item\n",
       "Coolers            38.583333\n",
       "Crossbows          51.750000\n",
       "Flippy Floppies    73.083333\n",
       "Lawn Chairs        22.083333\n",
       "Pool Noodles       64.666667\n",
       "Umbrellas          48.333333\n",
       "Waffle Irons       55.916667\n",
       "Name: Sales, dtype: float64"
      ]
     },
     "metadata": {},
     "execution_count": 8
    }
   ],
   "source": [
    "grouped = history[\"Sales\"].groupby(history['Item'])\n",
    "grouped.mean()\n"
   ]
  },
  {
   "cell_type": "code",
   "execution_count": 9,
   "metadata": {},
   "outputs": [
    {
     "output_type": "execute_result",
     "data": {
      "text/plain": [
       "Item\n",
       "Coolers            29.053112\n",
       "Crossbows          31.241362\n",
       "Flippy Floppies    14.228386\n",
       "Lawn Chairs        16.800749\n",
       "Pool Noodles       19.873845\n",
       "Umbrellas          21.111536\n",
       "Waffle Irons       28.192386\n",
       "Name: Sales, dtype: float64"
      ]
     },
     "metadata": {},
     "execution_count": 9
    }
   ],
   "source": [
    "grouped.std()"
   ]
  },
  {
   "cell_type": "code",
   "execution_count": 16,
   "metadata": {},
   "outputs": [
    {
     "output_type": "execute_result",
     "data": {
      "text/plain": [
       "Item\n",
       "Coolers            60.373168\n",
       "Crossbows          75.181022\n",
       "Flippy Floppies    83.754623\n",
       "Lawn Chairs        34.683895\n",
       "Pool Noodles       79.572050\n",
       "Umbrellas          64.166986\n",
       "Waffle Irons       77.060956\n",
       "Name: Sales, dtype: float64"
      ]
     },
     "metadata": {},
     "execution_count": 16
    }
   ],
   "source": [
    "needed = grouped.mean() + (grouped.std()*.75)\n",
    "needed"
   ]
  },
  {
   "cell_type": "code",
   "execution_count": null,
   "metadata": {},
   "outputs": [],
   "source": []
  },
  {
   "cell_type": "code",
   "execution_count": 15,
   "metadata": {},
   "outputs": [
    {
     "output_type": "execute_result",
     "data": {
      "text/plain": [
       "Item\n",
       "Coolers             78\n",
       "Crossbows          142\n",
       "Flippy Floppies     90\n",
       "Lawn Chairs         50\n",
       "Pool Noodles        98\n",
       "Umbrellas           70\n",
       "Waffle Irons       112\n",
       "Name: Sales, dtype: int64"
      ]
     },
     "metadata": {},
     "execution_count": 15
    }
   ],
   "source": [
    "grouped.max()\n"
   ]
  },
  {
   "cell_type": "code",
   "execution_count": null,
   "metadata": {},
   "outputs": [],
   "source": []
  }
 ]
}