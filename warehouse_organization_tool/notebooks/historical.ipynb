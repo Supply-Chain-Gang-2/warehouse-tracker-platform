{
 "metadata": {
  "language_info": {
   "codemirror_mode": {
    "name": "ipython",
    "version": 3
   },
   "file_extension": ".py",
   "mimetype": "text/x-python",
   "name": "python",
   "nbconvert_exporter": "python",
   "pygments_lexer": "ipython3",
   "version": "3.8.5"
  },
  "orig_nbformat": 2,
  "kernelspec": {
   "name": "python385jvsc74a57bd03ee6c8ef552e3d212b0758219aa708e2de866316e590ae56a215a93885898c74",
   "display_name": "Python 3.8.5 64-bit ('.venv': poetry)"
  },
  "metadata": {
   "interpreter": {
    "hash": "aee8b7b246df8f9039afb4144a1f6fd8d2ca17a180786b69acc140d282b71a49"
   }
  }
 },
 "nbformat": 4,
 "nbformat_minor": 2,
 "cells": [
  {
   "cell_type": "code",
   "execution_count": 83,
   "metadata": {},
   "outputs": [],
   "source": [
    "import pandas as pd"
   ]
  },
  {
   "cell_type": "code",
   "execution_count": 90,
   "metadata": {},
   "outputs": [
    {
     "output_type": "execute_result",
     "data": {
      "text/plain": [
       "          Item Month  Sales  Stock on Hand  Orders  Order Size\n",
       "0  Lawn Chairs   Jan      5             50       0          20\n",
       "1  Lawn Chairs   Feb      8             45       0          20\n",
       "2  Lawn Chairs   Mar     12             37       0          20\n",
       "3  Lawn Chairs   Apr     12             25       1          20\n",
       "4  Lawn Chairs   May     23             33       1          20"
      ],
      "text/html": "<div>\n<style scoped>\n    .dataframe tbody tr th:only-of-type {\n        vertical-align: middle;\n    }\n\n    .dataframe tbody tr th {\n        vertical-align: top;\n    }\n\n    .dataframe thead th {\n        text-align: right;\n    }\n</style>\n<table border=\"1\" class=\"dataframe\">\n  <thead>\n    <tr style=\"text-align: right;\">\n      <th></th>\n      <th>Item</th>\n      <th>Month</th>\n      <th>Sales</th>\n      <th>Stock on Hand</th>\n      <th>Orders</th>\n      <th>Order Size</th>\n    </tr>\n  </thead>\n  <tbody>\n    <tr>\n      <th>0</th>\n      <td>Lawn Chairs</td>\n      <td>Jan</td>\n      <td>5</td>\n      <td>50</td>\n      <td>0</td>\n      <td>20</td>\n    </tr>\n    <tr>\n      <th>1</th>\n      <td>Lawn Chairs</td>\n      <td>Feb</td>\n      <td>8</td>\n      <td>45</td>\n      <td>0</td>\n      <td>20</td>\n    </tr>\n    <tr>\n      <th>2</th>\n      <td>Lawn Chairs</td>\n      <td>Mar</td>\n      <td>12</td>\n      <td>37</td>\n      <td>0</td>\n      <td>20</td>\n    </tr>\n    <tr>\n      <th>3</th>\n      <td>Lawn Chairs</td>\n      <td>Apr</td>\n      <td>12</td>\n      <td>25</td>\n      <td>1</td>\n      <td>20</td>\n    </tr>\n    <tr>\n      <th>4</th>\n      <td>Lawn Chairs</td>\n      <td>May</td>\n      <td>23</td>\n      <td>33</td>\n      <td>1</td>\n      <td>20</td>\n    </tr>\n  </tbody>\n</table>\n</div>"
     },
     "metadata": {},
     "execution_count": 90
    }
   ],
   "source": [
    "df = pd.read_csv('./historical.csv')\n",
    "df.head()"
   ]
  },
  {
   "cell_type": "code",
   "execution_count": 92,
   "metadata": {},
   "outputs": [
    {
     "output_type": "execute_result",
     "data": {
      "text/plain": [
       "Item\n",
       "Coolers            38.583333\n",
       "Crossbows          51.750000\n",
       "Flippy Floppies    73.083333\n",
       "Lawn Chairs        22.083333\n",
       "Pool Noodles       64.666667\n",
       "Umbrellas          48.333333\n",
       "Waffle Irons       55.916667\n",
       "Name: Sales, dtype: float64"
      ]
     },
     "metadata": {},
     "execution_count": 92
    }
   ],
   "source": [
    "grouped = df[\"Sales\"].groupby(df['Item'])\n",
    "grouped.mean()\n"
   ]
  },
  {
   "cell_type": "code",
   "execution_count": 93,
   "metadata": {},
   "outputs": [
    {
     "output_type": "execute_result",
     "data": {
      "text/plain": [
       "Item\n",
       "Coolers            29.053112\n",
       "Crossbows          31.241362\n",
       "Flippy Floppies    14.228386\n",
       "Lawn Chairs        16.800749\n",
       "Pool Noodles       19.873845\n",
       "Umbrellas          21.111536\n",
       "Waffle Irons       28.192386\n",
       "Name: Sales, dtype: float64"
      ]
     },
     "metadata": {},
     "execution_count": 93
    }
   ],
   "source": [
    "grouped.std()"
   ]
  },
  {
   "cell_type": "code",
   "execution_count": 94,
   "metadata": {},
   "outputs": [
    {
     "output_type": "execute_result",
     "data": {
      "text/plain": [
       "Item\n",
       "Coolers             78\n",
       "Crossbows          142\n",
       "Flippy Floppies     90\n",
       "Lawn Chairs         50\n",
       "Pool Noodles        98\n",
       "Umbrellas           70\n",
       "Waffle Irons       112\n",
       "Name: Sales, dtype: int64"
      ]
     },
     "metadata": {},
     "execution_count": 94
    }
   ],
   "source": [
    "grouped.max()\n"
   ]
  },
  {
   "cell_type": "code",
   "execution_count": 99,
   "metadata": {},
   "outputs": [
    {
     "output_type": "execute_result",
     "data": {
      "text/plain": [
       "               Item Month  Sales  Number per order\n",
       "30          Coolers   Jul     78               NaN\n",
       "47        Crossbows   Dec    142               NaN\n",
       "74  Flippy Floppies   Mar     90               NaN\n",
       "6       Lawn Chairs   Jul     50               NaN\n",
       "62     Pool Noodles   Mar     98               NaN\n",
       "15        Umbrellas   Apr     70               NaN\n",
       "49     Waffle Irons   Feb    112               NaN"
      ],
      "text/html": "<div>\n<style scoped>\n    .dataframe tbody tr th:only-of-type {\n        vertical-align: middle;\n    }\n\n    .dataframe tbody tr th {\n        vertical-align: top;\n    }\n\n    .dataframe thead th {\n        text-align: right;\n    }\n</style>\n<table border=\"1\" class=\"dataframe\">\n  <thead>\n    <tr style=\"text-align: right;\">\n      <th></th>\n      <th>Item</th>\n      <th>Month</th>\n      <th>Sales</th>\n      <th>Number per order</th>\n    </tr>\n  </thead>\n  <tbody>\n    <tr>\n      <th>30</th>\n      <td>Coolers</td>\n      <td>Jul</td>\n      <td>78</td>\n      <td>NaN</td>\n    </tr>\n    <tr>\n      <th>47</th>\n      <td>Crossbows</td>\n      <td>Dec</td>\n      <td>142</td>\n      <td>NaN</td>\n    </tr>\n    <tr>\n      <th>74</th>\n      <td>Flippy Floppies</td>\n      <td>Mar</td>\n      <td>90</td>\n      <td>NaN</td>\n    </tr>\n    <tr>\n      <th>6</th>\n      <td>Lawn Chairs</td>\n      <td>Jul</td>\n      <td>50</td>\n      <td>NaN</td>\n    </tr>\n    <tr>\n      <th>62</th>\n      <td>Pool Noodles</td>\n      <td>Mar</td>\n      <td>98</td>\n      <td>NaN</td>\n    </tr>\n    <tr>\n      <th>15</th>\n      <td>Umbrellas</td>\n      <td>Apr</td>\n      <td>70</td>\n      <td>NaN</td>\n    </tr>\n    <tr>\n      <th>49</th>\n      <td>Waffle Irons</td>\n      <td>Feb</td>\n      <td>112</td>\n      <td>NaN</td>\n    </tr>\n  </tbody>\n</table>\n</div>"
     },
     "metadata": {},
     "execution_count": 99
    }
   ],
   "source": [
    "history.loc[history.groupby(\"Item\")[\"Sales\"].idxmax()]"
   ]
  },
  {
   "cell_type": "code",
   "execution_count": null,
   "metadata": {},
   "outputs": [],
   "source": []
  }
 ]
}