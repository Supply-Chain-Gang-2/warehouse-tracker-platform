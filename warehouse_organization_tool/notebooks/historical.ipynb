{
 "metadata": {
  "language_info": {
   "codemirror_mode": {
    "name": "ipython",
    "version": 3
   },
   "file_extension": ".py",
   "mimetype": "text/x-python",
   "name": "python",
   "nbconvert_exporter": "python",
   "pygments_lexer": "ipython3",
   "version": "3.8.5"
  },
  "orig_nbformat": 2,
  "kernelspec": {
   "name": "pythonjvsc74a57bd03ee6c8ef552e3d212b0758219aa708e2de866316e590ae56a215a93885898c74",
   "display_name": "Python 3.8.5 64-bit ('.venv': poetry)"
  },
  "metadata": {
   "interpreter": {
    "hash": "3ee6c8ef552e3d212b0758219aa708e2de866316e590ae56a215a93885898c74"
   }
  }
 },
 "nbformat": 4,
 "nbformat_minor": 2,
 "cells": [
  {
   "cell_type": "code",
   "execution_count": 2,
   "metadata": {},
   "outputs": [],
   "source": [
    "import pandas as pd\n",
    "import numpy as np"
   ]
  },
  {
   "cell_type": "code",
   "execution_count": 3,
   "metadata": {},
   "outputs": [
    {
     "output_type": "execute_result",
     "data": {
      "text/plain": [
       "          item month  sales  inventory  orders  order size  turnover\n",
       "0  Lawn Chairs   Jan      5         50       0          20    0.1000\n",
       "1  Lawn Chairs   Feb      8         45       0          20    0.1778\n",
       "2  Lawn Chairs   Mar     12         37       0          20    0.3243\n",
       "3  Lawn Chairs   Apr     12         25       1          20    0.4800\n",
       "4  Lawn Chairs   May     23         33       1          20    0.6970"
      ],
      "text/html": "<div>\n<style scoped>\n    .dataframe tbody tr th:only-of-type {\n        vertical-align: middle;\n    }\n\n    .dataframe tbody tr th {\n        vertical-align: top;\n    }\n\n    .dataframe thead th {\n        text-align: right;\n    }\n</style>\n<table border=\"1\" class=\"dataframe\">\n  <thead>\n    <tr style=\"text-align: right;\">\n      <th></th>\n      <th>item</th>\n      <th>month</th>\n      <th>sales</th>\n      <th>inventory</th>\n      <th>orders</th>\n      <th>order size</th>\n      <th>turnover</th>\n    </tr>\n  </thead>\n  <tbody>\n    <tr>\n      <th>0</th>\n      <td>Lawn Chairs</td>\n      <td>Jan</td>\n      <td>5</td>\n      <td>50</td>\n      <td>0</td>\n      <td>20</td>\n      <td>0.1000</td>\n    </tr>\n    <tr>\n      <th>1</th>\n      <td>Lawn Chairs</td>\n      <td>Feb</td>\n      <td>8</td>\n      <td>45</td>\n      <td>0</td>\n      <td>20</td>\n      <td>0.1778</td>\n    </tr>\n    <tr>\n      <th>2</th>\n      <td>Lawn Chairs</td>\n      <td>Mar</td>\n      <td>12</td>\n      <td>37</td>\n      <td>0</td>\n      <td>20</td>\n      <td>0.3243</td>\n    </tr>\n    <tr>\n      <th>3</th>\n      <td>Lawn Chairs</td>\n      <td>Apr</td>\n      <td>12</td>\n      <td>25</td>\n      <td>1</td>\n      <td>20</td>\n      <td>0.4800</td>\n    </tr>\n    <tr>\n      <th>4</th>\n      <td>Lawn Chairs</td>\n      <td>May</td>\n      <td>23</td>\n      <td>33</td>\n      <td>1</td>\n      <td>20</td>\n      <td>0.6970</td>\n    </tr>\n  </tbody>\n</table>\n</div>"
     },
     "metadata": {},
     "execution_count": 3
    }
   ],
   "source": [
    "df = pd.read_csv('./historical.csv')\n",
    "df.head()"
   ]
  },
  {
   "cell_type": "code",
   "execution_count": 4,
   "metadata": {},
   "outputs": [],
   "source": [
    "sales_data = df[\"sales\"].groupby(df['item'])\n",
    "inventory_data = df[\"inventory\"].groupby(df['item'])\n",
    "order_data = df[\"orders\"].groupby(df['item'])\n",
    "\n"
   ]
  },
  {
   "cell_type": "code",
   "execution_count": 5,
   "metadata": {},
   "outputs": [
    {
     "output_type": "execute_result",
     "data": {
      "text/plain": [
       "item\n",
       "Coolers             78\n",
       "Crossbows          142\n",
       "Flippy Floppies     90\n",
       "Lawn Chairs         50\n",
       "Pool Noodles        98\n",
       "Umbrellas           70\n",
       "Waffle Irons       112\n",
       "Name: sales, dtype: int64"
      ]
     },
     "metadata": {},
     "execution_count": 5
    }
   ],
   "source": [
    "df[\"sales\"].groupby(df['item']).max()\n"
   ]
  },
  {
   "cell_type": "code",
   "execution_count": 6,
   "metadata": {},
   "outputs": [
    {
     "output_type": "execute_result",
     "data": {
      "text/plain": [
       "               item month  sales  inventory  orders  order size  turnover\n",
       "30          Coolers   Jul     78         68       6          10    1.1471\n",
       "47        Crossbows   Dec    142         26       0           5    5.4615\n",
       "74  Flippy Floppies   Mar     90         46       1         100    1.9565\n",
       "6       Lawn Chairs   Jul     50         25       2          20    2.0000\n",
       "62     Pool Noodles   Mar     98         69       1          50    1.4203\n",
       "15        Umbrellas   Apr     70         85       1          25    0.8235\n",
       "49     Waffle Irons   Feb    112        157       0          20    0.7134"
      ],
      "text/html": "<div>\n<style scoped>\n    .dataframe tbody tr th:only-of-type {\n        vertical-align: middle;\n    }\n\n    .dataframe tbody tr th {\n        vertical-align: top;\n    }\n\n    .dataframe thead th {\n        text-align: right;\n    }\n</style>\n<table border=\"1\" class=\"dataframe\">\n  <thead>\n    <tr style=\"text-align: right;\">\n      <th></th>\n      <th>item</th>\n      <th>month</th>\n      <th>sales</th>\n      <th>inventory</th>\n      <th>orders</th>\n      <th>order size</th>\n      <th>turnover</th>\n    </tr>\n  </thead>\n  <tbody>\n    <tr>\n      <th>30</th>\n      <td>Coolers</td>\n      <td>Jul</td>\n      <td>78</td>\n      <td>68</td>\n      <td>6</td>\n      <td>10</td>\n      <td>1.1471</td>\n    </tr>\n    <tr>\n      <th>47</th>\n      <td>Crossbows</td>\n      <td>Dec</td>\n      <td>142</td>\n      <td>26</td>\n      <td>0</td>\n      <td>5</td>\n      <td>5.4615</td>\n    </tr>\n    <tr>\n      <th>74</th>\n      <td>Flippy Floppies</td>\n      <td>Mar</td>\n      <td>90</td>\n      <td>46</td>\n      <td>1</td>\n      <td>100</td>\n      <td>1.9565</td>\n    </tr>\n    <tr>\n      <th>6</th>\n      <td>Lawn Chairs</td>\n      <td>Jul</td>\n      <td>50</td>\n      <td>25</td>\n      <td>2</td>\n      <td>20</td>\n      <td>2.0000</td>\n    </tr>\n    <tr>\n      <th>62</th>\n      <td>Pool Noodles</td>\n      <td>Mar</td>\n      <td>98</td>\n      <td>69</td>\n      <td>1</td>\n      <td>50</td>\n      <td>1.4203</td>\n    </tr>\n    <tr>\n      <th>15</th>\n      <td>Umbrellas</td>\n      <td>Apr</td>\n      <td>70</td>\n      <td>85</td>\n      <td>1</td>\n      <td>25</td>\n      <td>0.8235</td>\n    </tr>\n    <tr>\n      <th>49</th>\n      <td>Waffle Irons</td>\n      <td>Feb</td>\n      <td>112</td>\n      <td>157</td>\n      <td>0</td>\n      <td>20</td>\n      <td>0.7134</td>\n    </tr>\n  </tbody>\n</table>\n</div>"
     },
     "metadata": {},
     "execution_count": 6
    }
   ],
   "source": [
    "df.loc[df.groupby(\"item\")[\"sales\"].idxmax()]"
   ]
  },
  {
   "cell_type": "code",
   "execution_count": 7,
   "metadata": {},
   "outputs": [
    {
     "output_type": "execute_result",
     "data": {
      "text/plain": [
       "item\n",
       "Coolers            39.0\n",
       "Crossbows          52.0\n",
       "Flippy Floppies    73.0\n",
       "Lawn Chairs        22.0\n",
       "Pool Noodles       65.0\n",
       "Umbrellas          48.0\n",
       "Waffle Irons       56.0\n",
       "Name: sales, dtype: float64"
      ]
     },
     "metadata": {},
     "execution_count": 7
    }
   ],
   "source": [
    "df[\"sales\"].groupby(df['item']).mean().round()\n"
   ]
  },
  {
   "cell_type": "code",
   "execution_count": 9,
   "metadata": {},
   "outputs": [
    {
     "output_type": "execute_result",
     "data": {
      "text/plain": [
       "item\n",
       "Coolers             66.0\n",
       "Crossbows           19.0\n",
       "Flippy Floppies    141.0\n",
       "Lawn Chairs         32.0\n",
       "Pool Noodles       139.0\n",
       "Umbrellas           57.0\n",
       "Waffle Irons        54.0\n",
       "Name: inventory, dtype: float64"
      ]
     },
     "metadata": {},
     "execution_count": 9
    }
   ],
   "source": [
    "df[\"inventory\"].groupby(df['item']).mean().round()\n"
   ]
  },
  {
   "source": [
    "### STDEV OF Inventory"
   ],
   "cell_type": "markdown",
   "metadata": {}
  },
  {
   "cell_type": "code",
   "execution_count": 10,
   "metadata": {},
   "outputs": [
    {
     "output_type": "execute_result",
     "data": {
      "text/plain": [
       "item\n",
       "Coolers            25.0\n",
       "Crossbows          13.0\n",
       "Flippy Floppies    64.0\n",
       "Lawn Chairs        14.0\n",
       "Pool Noodles       82.0\n",
       "Umbrellas          28.0\n",
       "Waffle Irons       61.0\n",
       "Name: inventory, dtype: float64"
      ]
     },
     "metadata": {},
     "execution_count": 10
    }
   ],
   "source": [
    "df[\"inventory\"].groupby(df['item']).std().round()"
   ]
  },
  {
   "cell_type": "code",
   "execution_count": 37,
   "metadata": {},
   "outputs": [
    {
     "output_type": "execute_result",
     "data": {
      "text/plain": [
       "               item month  sales  inventory  orders  order size  turnover\n",
       "30          Coolers   Jul     78         68       6          10    1.1471\n",
       "47        Crossbows   Dec    142         26       0           5    5.4615\n",
       "74  Flippy Floppies   Mar     90         46       1         100    1.9565\n",
       "6       Lawn Chairs   Jul     50         25       2          20    2.0000\n",
       "62     Pool Noodles   Mar     98         69       1          50    1.4203\n",
       "15        Umbrellas   Apr     70         85       1          25    0.8235\n",
       "49     Waffle Irons   Feb    112        157       0          20    0.7134"
      ],
      "text/html": "<div>\n<style scoped>\n    .dataframe tbody tr th:only-of-type {\n        vertical-align: middle;\n    }\n\n    .dataframe tbody tr th {\n        vertical-align: top;\n    }\n\n    .dataframe thead th {\n        text-align: right;\n    }\n</style>\n<table border=\"1\" class=\"dataframe\">\n  <thead>\n    <tr style=\"text-align: right;\">\n      <th></th>\n      <th>item</th>\n      <th>month</th>\n      <th>sales</th>\n      <th>inventory</th>\n      <th>orders</th>\n      <th>order size</th>\n      <th>turnover</th>\n    </tr>\n  </thead>\n  <tbody>\n    <tr>\n      <th>30</th>\n      <td>Coolers</td>\n      <td>Jul</td>\n      <td>78</td>\n      <td>68</td>\n      <td>6</td>\n      <td>10</td>\n      <td>1.1471</td>\n    </tr>\n    <tr>\n      <th>47</th>\n      <td>Crossbows</td>\n      <td>Dec</td>\n      <td>142</td>\n      <td>26</td>\n      <td>0</td>\n      <td>5</td>\n      <td>5.4615</td>\n    </tr>\n    <tr>\n      <th>74</th>\n      <td>Flippy Floppies</td>\n      <td>Mar</td>\n      <td>90</td>\n      <td>46</td>\n      <td>1</td>\n      <td>100</td>\n      <td>1.9565</td>\n    </tr>\n    <tr>\n      <th>6</th>\n      <td>Lawn Chairs</td>\n      <td>Jul</td>\n      <td>50</td>\n      <td>25</td>\n      <td>2</td>\n      <td>20</td>\n      <td>2.0000</td>\n    </tr>\n    <tr>\n      <th>62</th>\n      <td>Pool Noodles</td>\n      <td>Mar</td>\n      <td>98</td>\n      <td>69</td>\n      <td>1</td>\n      <td>50</td>\n      <td>1.4203</td>\n    </tr>\n    <tr>\n      <th>15</th>\n      <td>Umbrellas</td>\n      <td>Apr</td>\n      <td>70</td>\n      <td>85</td>\n      <td>1</td>\n      <td>25</td>\n      <td>0.8235</td>\n    </tr>\n    <tr>\n      <th>49</th>\n      <td>Waffle Irons</td>\n      <td>Feb</td>\n      <td>112</td>\n      <td>157</td>\n      <td>0</td>\n      <td>20</td>\n      <td>0.7134</td>\n    </tr>\n  </tbody>\n</table>\n</div>"
     },
     "metadata": {},
     "execution_count": 37
    }
   ],
   "source": [
    "df.loc[df.groupby(\"item\")[\"sales\"].idxmax()]"
   ]
  },
  {
   "cell_type": "code",
   "execution_count": 60,
   "metadata": {},
   "outputs": [
    {
     "output_type": "execute_result",
     "data": {
      "text/plain": [
       "                  inventory  order size    orders      sales  turnover\n",
       "item                                                                  \n",
       "Coolers           66.166667          10  3.333333  38.583333  0.731558\n",
       "Crossbows         19.250000           5  7.583333  51.750000  3.508067\n",
       "Flippy Floppies  140.583333         100  0.666667  73.083333  0.707600\n",
       "Lawn Chairs       31.916667          20  1.083333  22.083333  1.034383\n",
       "Pool Noodles     139.000000          50  0.916667  64.666667  0.792358\n",
       "Umbrellas         56.833333          25  1.916667  48.333333  1.318467\n",
       "Waffle Irons      53.833333          20  1.583333  55.916667  3.080150"
      ],
      "text/html": "<div>\n<style scoped>\n    .dataframe tbody tr th:only-of-type {\n        vertical-align: middle;\n    }\n\n    .dataframe tbody tr th {\n        vertical-align: top;\n    }\n\n    .dataframe thead th {\n        text-align: right;\n    }\n</style>\n<table border=\"1\" class=\"dataframe\">\n  <thead>\n    <tr style=\"text-align: right;\">\n      <th></th>\n      <th>inventory</th>\n      <th>order size</th>\n      <th>orders</th>\n      <th>sales</th>\n      <th>turnover</th>\n    </tr>\n    <tr>\n      <th>item</th>\n      <th></th>\n      <th></th>\n      <th></th>\n      <th></th>\n      <th></th>\n    </tr>\n  </thead>\n  <tbody>\n    <tr>\n      <th>Coolers</th>\n      <td>66.166667</td>\n      <td>10</td>\n      <td>3.333333</td>\n      <td>38.583333</td>\n      <td>0.731558</td>\n    </tr>\n    <tr>\n      <th>Crossbows</th>\n      <td>19.250000</td>\n      <td>5</td>\n      <td>7.583333</td>\n      <td>51.750000</td>\n      <td>3.508067</td>\n    </tr>\n    <tr>\n      <th>Flippy Floppies</th>\n      <td>140.583333</td>\n      <td>100</td>\n      <td>0.666667</td>\n      <td>73.083333</td>\n      <td>0.707600</td>\n    </tr>\n    <tr>\n      <th>Lawn Chairs</th>\n      <td>31.916667</td>\n      <td>20</td>\n      <td>1.083333</td>\n      <td>22.083333</td>\n      <td>1.034383</td>\n    </tr>\n    <tr>\n      <th>Pool Noodles</th>\n      <td>139.000000</td>\n      <td>50</td>\n      <td>0.916667</td>\n      <td>64.666667</td>\n      <td>0.792358</td>\n    </tr>\n    <tr>\n      <th>Umbrellas</th>\n      <td>56.833333</td>\n      <td>25</td>\n      <td>1.916667</td>\n      <td>48.333333</td>\n      <td>1.318467</td>\n    </tr>\n    <tr>\n      <th>Waffle Irons</th>\n      <td>53.833333</td>\n      <td>20</td>\n      <td>1.583333</td>\n      <td>55.916667</td>\n      <td>3.080150</td>\n    </tr>\n  </tbody>\n</table>\n</div>"
     },
     "metadata": {},
     "execution_count": 60
    }
   ],
   "source": [
    "df.pivot_table(index='item', aggfunc='mean')"
   ]
  },
  {
   "cell_type": "code",
   "execution_count": 18,
   "metadata": {},
   "outputs": [
    {
     "output_type": "execute_result",
     "data": {
      "text/plain": [
       "                 sales\n",
       "item                  \n",
       "Coolers             78\n",
       "Crossbows          142\n",
       "Flippy Floppies     90\n",
       "Lawn Chairs         50\n",
       "Pool Noodles        98\n",
       "Umbrellas           70\n",
       "Waffle Irons       112"
      ],
      "text/html": "<div>\n<style scoped>\n    .dataframe tbody tr th:only-of-type {\n        vertical-align: middle;\n    }\n\n    .dataframe tbody tr th {\n        vertical-align: top;\n    }\n\n    .dataframe thead th {\n        text-align: right;\n    }\n</style>\n<table border=\"1\" class=\"dataframe\">\n  <thead>\n    <tr style=\"text-align: right;\">\n      <th></th>\n      <th>sales</th>\n    </tr>\n    <tr>\n      <th>item</th>\n      <th></th>\n    </tr>\n  </thead>\n  <tbody>\n    <tr>\n      <th>Coolers</th>\n      <td>78</td>\n    </tr>\n    <tr>\n      <th>Crossbows</th>\n      <td>142</td>\n    </tr>\n    <tr>\n      <th>Flippy Floppies</th>\n      <td>90</td>\n    </tr>\n    <tr>\n      <th>Lawn Chairs</th>\n      <td>50</td>\n    </tr>\n    <tr>\n      <th>Pool Noodles</th>\n      <td>98</td>\n    </tr>\n    <tr>\n      <th>Umbrellas</th>\n      <td>70</td>\n    </tr>\n    <tr>\n      <th>Waffle Irons</th>\n      <td>112</td>\n    </tr>\n  </tbody>\n</table>\n</div>"
     },
     "metadata": {},
     "execution_count": 18
    }
   ],
   "source": [
    "df.pivot_table(values = \"sales\", index='item', aggfunc='max')"
   ]
  },
  {
   "cell_type": "code",
   "execution_count": 28,
   "metadata": {},
   "outputs": [
    {
     "output_type": "execute_result",
     "data": {
      "text/plain": [
       "                 max  mean\n",
       "item                      \n",
       "Coolers           78  39.0\n",
       "Crossbows        142  52.0\n",
       "Flippy Floppies   90  73.0\n",
       "Lawn Chairs       50  22.0\n",
       "Pool Noodles      98  65.0\n",
       "Umbrellas         70  48.0\n",
       "Waffle Irons     112  56.0"
      ],
      "text/html": "<div>\n<style scoped>\n    .dataframe tbody tr th:only-of-type {\n        vertical-align: middle;\n    }\n\n    .dataframe tbody tr th {\n        vertical-align: top;\n    }\n\n    .dataframe thead th {\n        text-align: right;\n    }\n</style>\n<table border=\"1\" class=\"dataframe\">\n  <thead>\n    <tr style=\"text-align: right;\">\n      <th></th>\n      <th>max</th>\n      <th>mean</th>\n    </tr>\n    <tr>\n      <th>item</th>\n      <th></th>\n      <th></th>\n    </tr>\n  </thead>\n  <tbody>\n    <tr>\n      <th>Coolers</th>\n      <td>78</td>\n      <td>39.0</td>\n    </tr>\n    <tr>\n      <th>Crossbows</th>\n      <td>142</td>\n      <td>52.0</td>\n    </tr>\n    <tr>\n      <th>Flippy Floppies</th>\n      <td>90</td>\n      <td>73.0</td>\n    </tr>\n    <tr>\n      <th>Lawn Chairs</th>\n      <td>50</td>\n      <td>22.0</td>\n    </tr>\n    <tr>\n      <th>Pool Noodles</th>\n      <td>98</td>\n      <td>65.0</td>\n    </tr>\n    <tr>\n      <th>Umbrellas</th>\n      <td>70</td>\n      <td>48.0</td>\n    </tr>\n    <tr>\n      <th>Waffle Irons</th>\n      <td>112</td>\n      <td>56.0</td>\n    </tr>\n  </tbody>\n</table>\n</div>"
     },
     "metadata": {},
     "execution_count": 28
    }
   ],
   "source": [
    "df.groupby(df[\"item\"]).sales.agg([\"max\",\"mean\"]).round()"
   ]
  },
  {
   "cell_type": "code",
   "execution_count": 30,
   "metadata": {},
   "outputs": [
    {
     "output_type": "execute_result",
     "data": {
      "text/plain": [
       "                 max   mean\n",
       "item                       \n",
       "Coolers          100   66.0\n",
       "Crossbows         50   19.0\n",
       "Flippy Floppies  233  141.0\n",
       "Lawn Chairs       53   32.0\n",
       "Pool Noodles     276  139.0\n",
       "Umbrellas        104   57.0\n",
       "Waffle Irons     200   54.0"
      ],
      "text/html": "<div>\n<style scoped>\n    .dataframe tbody tr th:only-of-type {\n        vertical-align: middle;\n    }\n\n    .dataframe tbody tr th {\n        vertical-align: top;\n    }\n\n    .dataframe thead th {\n        text-align: right;\n    }\n</style>\n<table border=\"1\" class=\"dataframe\">\n  <thead>\n    <tr style=\"text-align: right;\">\n      <th></th>\n      <th>max</th>\n      <th>mean</th>\n    </tr>\n    <tr>\n      <th>item</th>\n      <th></th>\n      <th></th>\n    </tr>\n  </thead>\n  <tbody>\n    <tr>\n      <th>Coolers</th>\n      <td>100</td>\n      <td>66.0</td>\n    </tr>\n    <tr>\n      <th>Crossbows</th>\n      <td>50</td>\n      <td>19.0</td>\n    </tr>\n    <tr>\n      <th>Flippy Floppies</th>\n      <td>233</td>\n      <td>141.0</td>\n    </tr>\n    <tr>\n      <th>Lawn Chairs</th>\n      <td>53</td>\n      <td>32.0</td>\n    </tr>\n    <tr>\n      <th>Pool Noodles</th>\n      <td>276</td>\n      <td>139.0</td>\n    </tr>\n    <tr>\n      <th>Umbrellas</th>\n      <td>104</td>\n      <td>57.0</td>\n    </tr>\n    <tr>\n      <th>Waffle Irons</th>\n      <td>200</td>\n      <td>54.0</td>\n    </tr>\n  </tbody>\n</table>\n</div>"
     },
     "metadata": {},
     "execution_count": 30
    }
   ],
   "source": [
    "df.groupby(df[\"item\"]).inventory.agg([\"max\",\"mean\"]).round()"
   ]
  },
  {
   "cell_type": "code",
   "execution_count": 24,
   "metadata": {},
   "outputs": [
    {
     "output_type": "execute_result",
     "data": {
      "text/plain": [
       "                      std      mean\n",
       "item                               \n",
       "Coolers          0.606469  0.731558\n",
       "Crossbows        1.924258  3.508067\n",
       "Flippy Floppies  0.521232  0.707600\n",
       "Lawn Chairs      1.075140  1.034383\n",
       "Pool Noodles     0.758489  0.792358\n",
       "Umbrellas        1.226316  1.318467\n",
       "Waffle Irons     4.030339  3.080150"
      ],
      "text/html": "<div>\n<style scoped>\n    .dataframe tbody tr th:only-of-type {\n        vertical-align: middle;\n    }\n\n    .dataframe tbody tr th {\n        vertical-align: top;\n    }\n\n    .dataframe thead th {\n        text-align: right;\n    }\n</style>\n<table border=\"1\" class=\"dataframe\">\n  <thead>\n    <tr style=\"text-align: right;\">\n      <th></th>\n      <th>std</th>\n      <th>mean</th>\n    </tr>\n    <tr>\n      <th>item</th>\n      <th></th>\n      <th></th>\n    </tr>\n  </thead>\n  <tbody>\n    <tr>\n      <th>Coolers</th>\n      <td>0.606469</td>\n      <td>0.731558</td>\n    </tr>\n    <tr>\n      <th>Crossbows</th>\n      <td>1.924258</td>\n      <td>3.508067</td>\n    </tr>\n    <tr>\n      <th>Flippy Floppies</th>\n      <td>0.521232</td>\n      <td>0.707600</td>\n    </tr>\n    <tr>\n      <th>Lawn Chairs</th>\n      <td>1.075140</td>\n      <td>1.034383</td>\n    </tr>\n    <tr>\n      <th>Pool Noodles</th>\n      <td>0.758489</td>\n      <td>0.792358</td>\n    </tr>\n    <tr>\n      <th>Umbrellas</th>\n      <td>1.226316</td>\n      <td>1.318467</td>\n    </tr>\n    <tr>\n      <th>Waffle Irons</th>\n      <td>4.030339</td>\n      <td>3.080150</td>\n    </tr>\n  </tbody>\n</table>\n</div>"
     },
     "metadata": {},
     "execution_count": 24
    }
   ],
   "source": [
    "df.groupby(df[\"item\"]).turnover.agg([\"std\",\"mean\"])"
   ]
  },
  {
   "cell_type": "code",
   "execution_count": 37,
   "metadata": {},
   "outputs": [
    {
     "output_type": "execute_result",
     "data": {
      "text/plain": [
       "               item month  sales  inventory  orders  order size  turnover\n",
       "30          Coolers   Jul     78         68       6          10    1.1471\n",
       "47        Crossbows   Dec    142         26       0           5    5.4615\n",
       "74  Flippy Floppies   Mar     90         46       1         100    1.9565\n",
       "6       Lawn Chairs   Jul     50         25       2          20    2.0000\n",
       "62     Pool Noodles   Mar     98         69       1          50    1.4203\n",
       "15        Umbrellas   Apr     70         85       1          25    0.8235\n",
       "49     Waffle Irons   Feb    112        157       0          20    0.7134"
      ],
      "text/html": "<div>\n<style scoped>\n    .dataframe tbody tr th:only-of-type {\n        vertical-align: middle;\n    }\n\n    .dataframe tbody tr th {\n        vertical-align: top;\n    }\n\n    .dataframe thead th {\n        text-align: right;\n    }\n</style>\n<table border=\"1\" class=\"dataframe\">\n  <thead>\n    <tr style=\"text-align: right;\">\n      <th></th>\n      <th>item</th>\n      <th>month</th>\n      <th>sales</th>\n      <th>inventory</th>\n      <th>orders</th>\n      <th>order size</th>\n      <th>turnover</th>\n    </tr>\n  </thead>\n  <tbody>\n    <tr>\n      <th>30</th>\n      <td>Coolers</td>\n      <td>Jul</td>\n      <td>78</td>\n      <td>68</td>\n      <td>6</td>\n      <td>10</td>\n      <td>1.1471</td>\n    </tr>\n    <tr>\n      <th>47</th>\n      <td>Crossbows</td>\n      <td>Dec</td>\n      <td>142</td>\n      <td>26</td>\n      <td>0</td>\n      <td>5</td>\n      <td>5.4615</td>\n    </tr>\n    <tr>\n      <th>74</th>\n      <td>Flippy Floppies</td>\n      <td>Mar</td>\n      <td>90</td>\n      <td>46</td>\n      <td>1</td>\n      <td>100</td>\n      <td>1.9565</td>\n    </tr>\n    <tr>\n      <th>6</th>\n      <td>Lawn Chairs</td>\n      <td>Jul</td>\n      <td>50</td>\n      <td>25</td>\n      <td>2</td>\n      <td>20</td>\n      <td>2.0000</td>\n    </tr>\n    <tr>\n      <th>62</th>\n      <td>Pool Noodles</td>\n      <td>Mar</td>\n      <td>98</td>\n      <td>69</td>\n      <td>1</td>\n      <td>50</td>\n      <td>1.4203</td>\n    </tr>\n    <tr>\n      <th>15</th>\n      <td>Umbrellas</td>\n      <td>Apr</td>\n      <td>70</td>\n      <td>85</td>\n      <td>1</td>\n      <td>25</td>\n      <td>0.8235</td>\n    </tr>\n    <tr>\n      <th>49</th>\n      <td>Waffle Irons</td>\n      <td>Feb</td>\n      <td>112</td>\n      <td>157</td>\n      <td>0</td>\n      <td>20</td>\n      <td>0.7134</td>\n    </tr>\n  </tbody>\n</table>\n</div>"
     },
     "metadata": {},
     "execution_count": 37
    }
   ],
   "source": [
    "df.loc[df.groupby(\"item\")[\"sales\"].idxmax()]"
   ]
  },
  {
   "cell_type": "code",
   "execution_count": null,
   "metadata": {},
   "outputs": [],
   "source": []
  }
 ]
}