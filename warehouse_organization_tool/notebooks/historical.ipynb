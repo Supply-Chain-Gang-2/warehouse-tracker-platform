{
 "metadata": {
  "language_info": {
   "codemirror_mode": {
    "name": "ipython",
    "version": 3
   },
   "file_extension": ".py",
   "mimetype": "text/x-python",
   "name": "python",
   "nbconvert_exporter": "python",
   "pygments_lexer": "ipython3",
   "version": "3.8.5"
  },
  "orig_nbformat": 2,
  "kernelspec": {
   "name": "pythonjvsc74a57bd03ee6c8ef552e3d212b0758219aa708e2de866316e590ae56a215a93885898c74",
   "display_name": "Python 3.8.5 64-bit ('.venv': poetry)"
  },
  "metadata": {
   "interpreter": {
    "hash": "3ee6c8ef552e3d212b0758219aa708e2de866316e590ae56a215a93885898c74"
   }
  }
 },
 "nbformat": 4,
 "nbformat_minor": 2,
 "cells": [
  {
   "cell_type": "code",
   "execution_count": 3,
   "metadata": {},
   "outputs": [],
   "source": [
    "import pandas as pd\n",
    "import numpy as np"
   ]
  },
  {
   "cell_type": "code",
   "execution_count": 4,
   "metadata": {},
   "outputs": [
    {
     "output_type": "execute_result",
     "data": {
      "text/plain": [
       "          item month  sales  inventory  orders  order size  turnover\n",
       "0  Lawn Chairs   Jan      5         50       0          20    0.1000\n",
       "1  Lawn Chairs   Feb      8         45       0          20    0.1778\n",
       "2  Lawn Chairs   Mar     12         37       0          20    0.3243\n",
       "3  Lawn Chairs   Apr     12         25       1          20    0.4800\n",
       "4  Lawn Chairs   May     23         33       1          20    0.6970"
      ],
      "text/html": "<div>\n<style scoped>\n    .dataframe tbody tr th:only-of-type {\n        vertical-align: middle;\n    }\n\n    .dataframe tbody tr th {\n        vertical-align: top;\n    }\n\n    .dataframe thead th {\n        text-align: right;\n    }\n</style>\n<table border=\"1\" class=\"dataframe\">\n  <thead>\n    <tr style=\"text-align: right;\">\n      <th></th>\n      <th>item</th>\n      <th>month</th>\n      <th>sales</th>\n      <th>inventory</th>\n      <th>orders</th>\n      <th>order size</th>\n      <th>turnover</th>\n    </tr>\n  </thead>\n  <tbody>\n    <tr>\n      <th>0</th>\n      <td>Lawn Chairs</td>\n      <td>Jan</td>\n      <td>5</td>\n      <td>50</td>\n      <td>0</td>\n      <td>20</td>\n      <td>0.1000</td>\n    </tr>\n    <tr>\n      <th>1</th>\n      <td>Lawn Chairs</td>\n      <td>Feb</td>\n      <td>8</td>\n      <td>45</td>\n      <td>0</td>\n      <td>20</td>\n      <td>0.1778</td>\n    </tr>\n    <tr>\n      <th>2</th>\n      <td>Lawn Chairs</td>\n      <td>Mar</td>\n      <td>12</td>\n      <td>37</td>\n      <td>0</td>\n      <td>20</td>\n      <td>0.3243</td>\n    </tr>\n    <tr>\n      <th>3</th>\n      <td>Lawn Chairs</td>\n      <td>Apr</td>\n      <td>12</td>\n      <td>25</td>\n      <td>1</td>\n      <td>20</td>\n      <td>0.4800</td>\n    </tr>\n    <tr>\n      <th>4</th>\n      <td>Lawn Chairs</td>\n      <td>May</td>\n      <td>23</td>\n      <td>33</td>\n      <td>1</td>\n      <td>20</td>\n      <td>0.6970</td>\n    </tr>\n  </tbody>\n</table>\n</div>"
     },
     "metadata": {},
     "execution_count": 4
    }
   ],
   "source": [
    "df = pd.read_csv('./historical.csv')\n",
    "df.head()"
   ]
  },
  {
   "cell_type": "code",
   "execution_count": 5,
   "metadata": {},
   "outputs": [],
   "source": [
    "sales_data = df[\"sales\"].groupby(df['item'])\n",
    "inventory_data = df[\"inventory\"].groupby(df['item'])\n",
    "order_data = df[\"orders\"].groupby(df['item'])\n",
    "\n"
   ]
  },
  {
   "cell_type": "code",
   "execution_count": 6,
   "metadata": {},
   "outputs": [
    {
     "output_type": "execute_result",
     "data": {
      "text/plain": [
       "item\n",
       "Coolers             78\n",
       "Crossbows          142\n",
       "Flippy Floppies     90\n",
       "Lawn Chairs         50\n",
       "Pool Noodles        98\n",
       "Umbrellas           70\n",
       "Waffle Irons       112\n",
       "Name: sales, dtype: int64"
      ]
     },
     "metadata": {},
     "execution_count": 6
    }
   ],
   "source": [
    "df[\"sales\"].groupby(df['item']).max()\n"
   ]
  },
  {
   "source": [
    "### Max "
   ],
   "cell_type": "markdown",
   "metadata": {}
  },
  {
   "cell_type": "code",
   "execution_count": 7,
   "metadata": {},
   "outputs": [
    {
     "output_type": "execute_result",
     "data": {
      "text/plain": [
       "               item month  sales  inventory  orders  order size  turnover\n",
       "30          Coolers   Jul     78         68       6          10    1.1471\n",
       "47        Crossbows   Dec    142         26       0           5    5.4615\n",
       "74  Flippy Floppies   Mar     90         46       1         100    1.9565\n",
       "6       Lawn Chairs   Jul     50         25       2          20    2.0000\n",
       "62     Pool Noodles   Mar     98         69       1          50    1.4203\n",
       "15        Umbrellas   Apr     70         85       1          25    0.8235\n",
       "49     Waffle Irons   Feb    112        157       0          20    0.7134"
      ],
      "text/html": "<div>\n<style scoped>\n    .dataframe tbody tr th:only-of-type {\n        vertical-align: middle;\n    }\n\n    .dataframe tbody tr th {\n        vertical-align: top;\n    }\n\n    .dataframe thead th {\n        text-align: right;\n    }\n</style>\n<table border=\"1\" class=\"dataframe\">\n  <thead>\n    <tr style=\"text-align: right;\">\n      <th></th>\n      <th>item</th>\n      <th>month</th>\n      <th>sales</th>\n      <th>inventory</th>\n      <th>orders</th>\n      <th>order size</th>\n      <th>turnover</th>\n    </tr>\n  </thead>\n  <tbody>\n    <tr>\n      <th>30</th>\n      <td>Coolers</td>\n      <td>Jul</td>\n      <td>78</td>\n      <td>68</td>\n      <td>6</td>\n      <td>10</td>\n      <td>1.1471</td>\n    </tr>\n    <tr>\n      <th>47</th>\n      <td>Crossbows</td>\n      <td>Dec</td>\n      <td>142</td>\n      <td>26</td>\n      <td>0</td>\n      <td>5</td>\n      <td>5.4615</td>\n    </tr>\n    <tr>\n      <th>74</th>\n      <td>Flippy Floppies</td>\n      <td>Mar</td>\n      <td>90</td>\n      <td>46</td>\n      <td>1</td>\n      <td>100</td>\n      <td>1.9565</td>\n    </tr>\n    <tr>\n      <th>6</th>\n      <td>Lawn Chairs</td>\n      <td>Jul</td>\n      <td>50</td>\n      <td>25</td>\n      <td>2</td>\n      <td>20</td>\n      <td>2.0000</td>\n    </tr>\n    <tr>\n      <th>62</th>\n      <td>Pool Noodles</td>\n      <td>Mar</td>\n      <td>98</td>\n      <td>69</td>\n      <td>1</td>\n      <td>50</td>\n      <td>1.4203</td>\n    </tr>\n    <tr>\n      <th>15</th>\n      <td>Umbrellas</td>\n      <td>Apr</td>\n      <td>70</td>\n      <td>85</td>\n      <td>1</td>\n      <td>25</td>\n      <td>0.8235</td>\n    </tr>\n    <tr>\n      <th>49</th>\n      <td>Waffle Irons</td>\n      <td>Feb</td>\n      <td>112</td>\n      <td>157</td>\n      <td>0</td>\n      <td>20</td>\n      <td>0.7134</td>\n    </tr>\n  </tbody>\n</table>\n</div>"
     },
     "metadata": {},
     "execution_count": 7
    }
   ],
   "source": [
    "df.loc[df.groupby(\"item\")[\"sales\"].idxmax()]"
   ]
  },
  {
   "source": [
    "### Average Sales"
   ],
   "cell_type": "markdown",
   "metadata": {}
  },
  {
   "cell_type": "code",
   "execution_count": 8,
   "metadata": {},
   "outputs": [
    {
     "output_type": "execute_result",
     "data": {
      "text/plain": [
       "item\n",
       "Coolers            39.0\n",
       "Crossbows          52.0\n",
       "Flippy Floppies    73.0\n",
       "Lawn Chairs        22.0\n",
       "Pool Noodles       65.0\n",
       "Umbrellas          48.0\n",
       "Waffle Irons       56.0\n",
       "Name: sales, dtype: float64"
      ]
     },
     "metadata": {},
     "execution_count": 8
    }
   ],
   "source": [
    "df[\"sales\"].groupby(df['item']).mean().round()\n"
   ]
  },
  {
   "source": [
    "### STDEV of Sales"
   ],
   "cell_type": "markdown",
   "metadata": {}
  },
  {
   "cell_type": "code",
   "execution_count": 31,
   "metadata": {},
   "outputs": [
    {
     "output_type": "execute_result",
     "data": {
      "text/plain": [
       "item\n",
       "Coolers            29.0\n",
       "Crossbows          31.0\n",
       "Flippy Floppies    14.0\n",
       "Lawn Chairs        17.0\n",
       "Pool Noodles       20.0\n",
       "Umbrellas          21.0\n",
       "Waffle Irons       28.0\n",
       "Name: sales, dtype: float64"
      ]
     },
     "metadata": {},
     "execution_count": 31
    }
   ],
   "source": [
    "df[\"sales\"].groupby(df['item']).std().round()"
   ]
  },
  {
   "source": [
    "### Average Inventory"
   ],
   "cell_type": "markdown",
   "metadata": {}
  },
  {
   "cell_type": "code",
   "execution_count": 35,
   "metadata": {},
   "outputs": [
    {
     "output_type": "execute_result",
     "data": {
      "text/plain": [
       "item\n",
       "Coolers             66.0\n",
       "Crossbows           19.0\n",
       "Flippy Floppies    141.0\n",
       "Lawn Chairs         32.0\n",
       "Pool Noodles       139.0\n",
       "Umbrellas           57.0\n",
       "Waffle Irons        54.0\n",
       "Name: inventory, dtype: float64"
      ]
     },
     "metadata": {},
     "execution_count": 35
    }
   ],
   "source": [
    "df[\"inventory\"].groupby(df['item']).mean().round()\n"
   ]
  },
  {
   "source": [
    "### STDEV OF Inventory"
   ],
   "cell_type": "markdown",
   "metadata": {}
  },
  {
   "cell_type": "code",
   "execution_count": 32,
   "metadata": {},
   "outputs": [
    {
     "output_type": "execute_result",
     "data": {
      "text/plain": [
       "item\n",
       "Coolers            25.0\n",
       "Crossbows          13.0\n",
       "Flippy Floppies    64.0\n",
       "Lawn Chairs        14.0\n",
       "Pool Noodles       82.0\n",
       "Umbrellas          28.0\n",
       "Waffle Irons       61.0\n",
       "Name: inventory, dtype: float64"
      ]
     },
     "metadata": {},
     "execution_count": 32
    }
   ],
   "source": [
    "df[\"inventory\"].groupby(df['item']).std().round()"
   ]
  },
  {
   "source": [
    "### Average Turnover"
   ],
   "cell_type": "markdown",
   "metadata": {}
  },
  {
   "cell_type": "code",
   "execution_count": 22,
   "metadata": {},
   "outputs": [
    {
     "output_type": "execute_result",
     "data": {
      "text/plain": [
       "item\n",
       "Coolers            0.7316\n",
       "Crossbows          3.5081\n",
       "Flippy Floppies    0.7076\n",
       "Lawn Chairs        1.0344\n",
       "Pool Noodles       0.7924\n",
       "Umbrellas          1.3185\n",
       "Waffle Irons       3.0801\n",
       "Name: turnover, dtype: float64"
      ]
     },
     "metadata": {},
     "execution_count": 22
    }
   ],
   "source": [
    "df[\"turnover\"].groupby(df['item']).mean().round(4)"
   ]
  },
  {
   "source": [
    "### STDEV Turnover"
   ],
   "cell_type": "markdown",
   "metadata": {}
  },
  {
   "cell_type": "code",
   "execution_count": 39,
   "metadata": {},
   "outputs": [
    {
     "output_type": "execute_result",
     "data": {
      "text/plain": [
       "{'Coolers': 0.6065,\n",
       " 'Crossbows': 1.9243,\n",
       " 'Flippy Floppies': 0.5212,\n",
       " 'Lawn Chairs': 1.0751,\n",
       " 'Pool Noodles': 0.7585,\n",
       " 'Umbrellas': 1.2263,\n",
       " 'Waffle Irons': 4.0303}"
      ]
     },
     "metadata": {},
     "execution_count": 39
    }
   ],
   "source": [
    "df[\"turnover\"].groupby(df['item']).std().round(4).to_dict()"
   ]
  },
  {
   "cell_type": "code",
   "execution_count": 53,
   "metadata": {},
   "outputs": [
    {
     "output_type": "error",
     "ename": "TypeError",
     "evalue": "as_index=False only valid with DataFrame",
     "traceback": [
      "\u001b[0;31m---------------------------------------------------------------------------\u001b[0m",
      "\u001b[0;31mTypeError\u001b[0m                                 Traceback (most recent call last)",
      "\u001b[0;32m<ipython-input-53-a3dc1b18fb25>\u001b[0m in \u001b[0;36m<module>\u001b[0;34m\u001b[0m\n\u001b[1;32m      2\u001b[0m \u001b[0mitems\u001b[0m\u001b[0;34m.\u001b[0m\u001b[0msort\u001b[0m\u001b[0;34m(\u001b[0m\u001b[0;34m)\u001b[0m\u001b[0;34m\u001b[0m\u001b[0;34m\u001b[0m\u001b[0m\n\u001b[1;32m      3\u001b[0m \u001b[0mitems_dataframe\u001b[0m \u001b[0;34m=\u001b[0m \u001b[0mpd\u001b[0m\u001b[0;34m.\u001b[0m\u001b[0mDataFrame\u001b[0m\u001b[0;34m(\u001b[0m\u001b[0mitems\u001b[0m\u001b[0;34m,\u001b[0m \u001b[0mcolumns\u001b[0m \u001b[0;34m=\u001b[0m \u001b[0;34m[\u001b[0m\u001b[0;34m'item_name'\u001b[0m\u001b[0;34m]\u001b[0m\u001b[0;34m)\u001b[0m\u001b[0;34m\u001b[0m\u001b[0;34m\u001b[0m\u001b[0m\n\u001b[0;32m----> 4\u001b[0;31m \u001b[0mitems_dataframe\u001b[0m\u001b[0;34m[\u001b[0m\u001b[0;34m'turnover_std'\u001b[0m\u001b[0;34m]\u001b[0m \u001b[0;34m=\u001b[0m \u001b[0mdf\u001b[0m\u001b[0;34m[\u001b[0m\u001b[0;34m\"turnover\"\u001b[0m\u001b[0;34m]\u001b[0m\u001b[0;34m.\u001b[0m\u001b[0mgroupby\u001b[0m\u001b[0;34m(\u001b[0m\u001b[0mdf\u001b[0m\u001b[0;34m[\u001b[0m\u001b[0;34m'item'\u001b[0m\u001b[0;34m]\u001b[0m\u001b[0;34m,\u001b[0m\u001b[0mas_index\u001b[0m\u001b[0;34m=\u001b[0m\u001b[0;32mFalse\u001b[0m\u001b[0;34m)\u001b[0m\u001b[0;34m.\u001b[0m\u001b[0mstd\u001b[0m\u001b[0;34m(\u001b[0m\u001b[0;34m)\u001b[0m\u001b[0;34m.\u001b[0m\u001b[0mround\u001b[0m\u001b[0;34m(\u001b[0m\u001b[0;36m4\u001b[0m\u001b[0;34m)\u001b[0m\u001b[0;34m.\u001b[0m\u001b[0mto_dict\u001b[0m\u001b[0;34m(\u001b[0m\u001b[0;34m)\u001b[0m\u001b[0;34m\u001b[0m\u001b[0;34m\u001b[0m\u001b[0m\n\u001b[0m\u001b[1;32m      5\u001b[0m \u001b[0mitems_dataframe\u001b[0m\u001b[0;34m\u001b[0m\u001b[0;34m\u001b[0m\u001b[0m\n",
      "\u001b[0;32m~/Documents/codefellows/401/warehouse-organization-tool/.venv/lib/python3.8/site-packages/pandas/core/series.py\u001b[0m in \u001b[0;36mgroupby\u001b[0;34m(self, by, axis, level, as_index, sort, group_keys, squeeze, observed, dropna)\u001b[0m\n\u001b[1;32m   1718\u001b[0m         \u001b[0maxis\u001b[0m \u001b[0;34m=\u001b[0m \u001b[0mself\u001b[0m\u001b[0;34m.\u001b[0m\u001b[0m_get_axis_number\u001b[0m\u001b[0;34m(\u001b[0m\u001b[0maxis\u001b[0m\u001b[0;34m)\u001b[0m\u001b[0;34m\u001b[0m\u001b[0;34m\u001b[0m\u001b[0m\n\u001b[1;32m   1719\u001b[0m \u001b[0;34m\u001b[0m\u001b[0m\n\u001b[0;32m-> 1720\u001b[0;31m         return SeriesGroupBy(\n\u001b[0m\u001b[1;32m   1721\u001b[0m             \u001b[0mobj\u001b[0m\u001b[0;34m=\u001b[0m\u001b[0mself\u001b[0m\u001b[0;34m,\u001b[0m\u001b[0;34m\u001b[0m\u001b[0;34m\u001b[0m\u001b[0m\n\u001b[1;32m   1722\u001b[0m             \u001b[0mkeys\u001b[0m\u001b[0;34m=\u001b[0m\u001b[0mby\u001b[0m\u001b[0;34m,\u001b[0m\u001b[0;34m\u001b[0m\u001b[0;34m\u001b[0m\u001b[0m\n",
      "\u001b[0;32m~/Documents/codefellows/401/warehouse-organization-tool/.venv/lib/python3.8/site-packages/pandas/core/groupby/groupby.py\u001b[0m in \u001b[0;36m__init__\u001b[0;34m(self, obj, keys, axis, level, grouper, exclusions, selection, as_index, sort, group_keys, squeeze, observed, mutated, dropna)\u001b[0m\n\u001b[1;32m    542\u001b[0m         \u001b[0;32mif\u001b[0m \u001b[0;32mnot\u001b[0m \u001b[0mas_index\u001b[0m\u001b[0;34m:\u001b[0m\u001b[0;34m\u001b[0m\u001b[0;34m\u001b[0m\u001b[0m\n\u001b[1;32m    543\u001b[0m             \u001b[0;32mif\u001b[0m \u001b[0;32mnot\u001b[0m \u001b[0misinstance\u001b[0m\u001b[0;34m(\u001b[0m\u001b[0mobj\u001b[0m\u001b[0;34m,\u001b[0m \u001b[0mDataFrame\u001b[0m\u001b[0;34m)\u001b[0m\u001b[0;34m:\u001b[0m\u001b[0;34m\u001b[0m\u001b[0;34m\u001b[0m\u001b[0m\n\u001b[0;32m--> 544\u001b[0;31m                 \u001b[0;32mraise\u001b[0m \u001b[0mTypeError\u001b[0m\u001b[0;34m(\u001b[0m\u001b[0;34m\"as_index=False only valid with DataFrame\"\u001b[0m\u001b[0;34m)\u001b[0m\u001b[0;34m\u001b[0m\u001b[0;34m\u001b[0m\u001b[0m\n\u001b[0m\u001b[1;32m    545\u001b[0m             \u001b[0;32mif\u001b[0m \u001b[0maxis\u001b[0m \u001b[0;34m!=\u001b[0m \u001b[0;36m0\u001b[0m\u001b[0;34m:\u001b[0m\u001b[0;34m\u001b[0m\u001b[0;34m\u001b[0m\u001b[0m\n\u001b[1;32m    546\u001b[0m                 \u001b[0;32mraise\u001b[0m \u001b[0mValueError\u001b[0m\u001b[0;34m(\u001b[0m\u001b[0;34m\"as_index=False only valid for axis=0\"\u001b[0m\u001b[0;34m)\u001b[0m\u001b[0;34m\u001b[0m\u001b[0;34m\u001b[0m\u001b[0m\n",
      "\u001b[0;31mTypeError\u001b[0m: as_index=False only valid with DataFrame"
     ]
    }
   ],
   "source": [
    "items = df[\"item\"].unique()\n",
    "items.sort()\n",
    "items_dataframe = pd.DataFrame(items, columns = ['item_name'])\n",
    "items_dataframe['turnover_std'] = df[\"turnover\"].groupby(df['item'],as_index=False).std().round(4).to_dict()\n",
    "items_dataframe\n"
   ]
  },
  {
   "cell_type": "code",
   "execution_count": 37,
   "metadata": {},
   "outputs": [
    {
     "output_type": "execute_result",
     "data": {
      "text/plain": [
       "               item month  sales  inventory  orders  order size  turnover\n",
       "30          Coolers   Jul     78         68       6          10    1.1471\n",
       "47        Crossbows   Dec    142         26       0           5    5.4615\n",
       "74  Flippy Floppies   Mar     90         46       1         100    1.9565\n",
       "6       Lawn Chairs   Jul     50         25       2          20    2.0000\n",
       "62     Pool Noodles   Mar     98         69       1          50    1.4203\n",
       "15        Umbrellas   Apr     70         85       1          25    0.8235\n",
       "49     Waffle Irons   Feb    112        157       0          20    0.7134"
      ],
      "text/html": "<div>\n<style scoped>\n    .dataframe tbody tr th:only-of-type {\n        vertical-align: middle;\n    }\n\n    .dataframe tbody tr th {\n        vertical-align: top;\n    }\n\n    .dataframe thead th {\n        text-align: right;\n    }\n</style>\n<table border=\"1\" class=\"dataframe\">\n  <thead>\n    <tr style=\"text-align: right;\">\n      <th></th>\n      <th>item</th>\n      <th>month</th>\n      <th>sales</th>\n      <th>inventory</th>\n      <th>orders</th>\n      <th>order size</th>\n      <th>turnover</th>\n    </tr>\n  </thead>\n  <tbody>\n    <tr>\n      <th>30</th>\n      <td>Coolers</td>\n      <td>Jul</td>\n      <td>78</td>\n      <td>68</td>\n      <td>6</td>\n      <td>10</td>\n      <td>1.1471</td>\n    </tr>\n    <tr>\n      <th>47</th>\n      <td>Crossbows</td>\n      <td>Dec</td>\n      <td>142</td>\n      <td>26</td>\n      <td>0</td>\n      <td>5</td>\n      <td>5.4615</td>\n    </tr>\n    <tr>\n      <th>74</th>\n      <td>Flippy Floppies</td>\n      <td>Mar</td>\n      <td>90</td>\n      <td>46</td>\n      <td>1</td>\n      <td>100</td>\n      <td>1.9565</td>\n    </tr>\n    <tr>\n      <th>6</th>\n      <td>Lawn Chairs</td>\n      <td>Jul</td>\n      <td>50</td>\n      <td>25</td>\n      <td>2</td>\n      <td>20</td>\n      <td>2.0000</td>\n    </tr>\n    <tr>\n      <th>62</th>\n      <td>Pool Noodles</td>\n      <td>Mar</td>\n      <td>98</td>\n      <td>69</td>\n      <td>1</td>\n      <td>50</td>\n      <td>1.4203</td>\n    </tr>\n    <tr>\n      <th>15</th>\n      <td>Umbrellas</td>\n      <td>Apr</td>\n      <td>70</td>\n      <td>85</td>\n      <td>1</td>\n      <td>25</td>\n      <td>0.8235</td>\n    </tr>\n    <tr>\n      <th>49</th>\n      <td>Waffle Irons</td>\n      <td>Feb</td>\n      <td>112</td>\n      <td>157</td>\n      <td>0</td>\n      <td>20</td>\n      <td>0.7134</td>\n    </tr>\n  </tbody>\n</table>\n</div>"
     },
     "metadata": {},
     "execution_count": 37
    }
   ],
   "source": [
    "df.loc[df.groupby(\"item\")[\"sales\"].idxmax()]"
   ]
  },
  {
   "cell_type": "code",
   "execution_count": 60,
   "metadata": {},
   "outputs": [
    {
     "output_type": "execute_result",
     "data": {
      "text/plain": [
       "                  inventory  order size    orders      sales  turnover\n",
       "item                                                                  \n",
       "Coolers           66.166667          10  3.333333  38.583333  0.731558\n",
       "Crossbows         19.250000           5  7.583333  51.750000  3.508067\n",
       "Flippy Floppies  140.583333         100  0.666667  73.083333  0.707600\n",
       "Lawn Chairs       31.916667          20  1.083333  22.083333  1.034383\n",
       "Pool Noodles     139.000000          50  0.916667  64.666667  0.792358\n",
       "Umbrellas         56.833333          25  1.916667  48.333333  1.318467\n",
       "Waffle Irons      53.833333          20  1.583333  55.916667  3.080150"
      ],
      "text/html": "<div>\n<style scoped>\n    .dataframe tbody tr th:only-of-type {\n        vertical-align: middle;\n    }\n\n    .dataframe tbody tr th {\n        vertical-align: top;\n    }\n\n    .dataframe thead th {\n        text-align: right;\n    }\n</style>\n<table border=\"1\" class=\"dataframe\">\n  <thead>\n    <tr style=\"text-align: right;\">\n      <th></th>\n      <th>inventory</th>\n      <th>order size</th>\n      <th>orders</th>\n      <th>sales</th>\n      <th>turnover</th>\n    </tr>\n    <tr>\n      <th>item</th>\n      <th></th>\n      <th></th>\n      <th></th>\n      <th></th>\n      <th></th>\n    </tr>\n  </thead>\n  <tbody>\n    <tr>\n      <th>Coolers</th>\n      <td>66.166667</td>\n      <td>10</td>\n      <td>3.333333</td>\n      <td>38.583333</td>\n      <td>0.731558</td>\n    </tr>\n    <tr>\n      <th>Crossbows</th>\n      <td>19.250000</td>\n      <td>5</td>\n      <td>7.583333</td>\n      <td>51.750000</td>\n      <td>3.508067</td>\n    </tr>\n    <tr>\n      <th>Flippy Floppies</th>\n      <td>140.583333</td>\n      <td>100</td>\n      <td>0.666667</td>\n      <td>73.083333</td>\n      <td>0.707600</td>\n    </tr>\n    <tr>\n      <th>Lawn Chairs</th>\n      <td>31.916667</td>\n      <td>20</td>\n      <td>1.083333</td>\n      <td>22.083333</td>\n      <td>1.034383</td>\n    </tr>\n    <tr>\n      <th>Pool Noodles</th>\n      <td>139.000000</td>\n      <td>50</td>\n      <td>0.916667</td>\n      <td>64.666667</td>\n      <td>0.792358</td>\n    </tr>\n    <tr>\n      <th>Umbrellas</th>\n      <td>56.833333</td>\n      <td>25</td>\n      <td>1.916667</td>\n      <td>48.333333</td>\n      <td>1.318467</td>\n    </tr>\n    <tr>\n      <th>Waffle Irons</th>\n      <td>53.833333</td>\n      <td>20</td>\n      <td>1.583333</td>\n      <td>55.916667</td>\n      <td>3.080150</td>\n    </tr>\n  </tbody>\n</table>\n</div>"
     },
     "metadata": {},
     "execution_count": 60
    }
   ],
   "source": [
    "df.pivot_table(index='item', aggfunc='mean')"
   ]
  },
  {
   "cell_type": "code",
   "execution_count": 85,
   "metadata": {},
   "outputs": [
    {
     "output_type": "execute_result",
     "data": {
      "text/plain": [
       "{'sales': {'Coolers': 78,\n",
       "  'Crossbows': 142,\n",
       "  'Flippy Floppies': 90,\n",
       "  'Lawn Chairs': 50,\n",
       "  'Pool Noodles': 98,\n",
       "  'Umbrellas': 70,\n",
       "  'Waffle Irons': 112}}"
      ]
     },
     "metadata": {},
     "execution_count": 85
    }
   ],
   "source": [
    "df.pivot_table(values = \"sales\", index='item', aggfunc='max').to_dict()"
   ]
  },
  {
   "cell_type": "code",
   "execution_count": 75,
   "metadata": {},
   "outputs": [
    {
     "output_type": "execute_result",
     "data": {
      "text/plain": [
       "                       std       mean\n",
       "item                                 \n",
       "Coolers          29.053112  38.583333\n",
       "Crossbows        31.241362  51.750000\n",
       "Flippy Floppies  14.228386  73.083333\n",
       "Lawn Chairs      16.800749  22.083333\n",
       "Pool Noodles     19.873845  64.666667\n",
       "Umbrellas        21.111536  48.333333\n",
       "Waffle Irons     28.192386  55.916667"
      ],
      "text/html": "<div>\n<style scoped>\n    .dataframe tbody tr th:only-of-type {\n        vertical-align: middle;\n    }\n\n    .dataframe tbody tr th {\n        vertical-align: top;\n    }\n\n    .dataframe thead th {\n        text-align: right;\n    }\n</style>\n<table border=\"1\" class=\"dataframe\">\n  <thead>\n    <tr style=\"text-align: right;\">\n      <th></th>\n      <th>std</th>\n      <th>mean</th>\n    </tr>\n    <tr>\n      <th>item</th>\n      <th></th>\n      <th></th>\n    </tr>\n  </thead>\n  <tbody>\n    <tr>\n      <th>Coolers</th>\n      <td>29.053112</td>\n      <td>38.583333</td>\n    </tr>\n    <tr>\n      <th>Crossbows</th>\n      <td>31.241362</td>\n      <td>51.750000</td>\n    </tr>\n    <tr>\n      <th>Flippy Floppies</th>\n      <td>14.228386</td>\n      <td>73.083333</td>\n    </tr>\n    <tr>\n      <th>Lawn Chairs</th>\n      <td>16.800749</td>\n      <td>22.083333</td>\n    </tr>\n    <tr>\n      <th>Pool Noodles</th>\n      <td>19.873845</td>\n      <td>64.666667</td>\n    </tr>\n    <tr>\n      <th>Umbrellas</th>\n      <td>21.111536</td>\n      <td>48.333333</td>\n    </tr>\n    <tr>\n      <th>Waffle Irons</th>\n      <td>28.192386</td>\n      <td>55.916667</td>\n    </tr>\n  </tbody>\n</table>\n</div>"
     },
     "metadata": {},
     "execution_count": 75
    }
   ],
   "source": [
    "df.groupby(df[\"item\"]).sales.agg([\"std\",\"mean\"])"
   ]
  },
  {
   "cell_type": "code",
   "execution_count": 80,
   "metadata": {},
   "outputs": [
    {
     "output_type": "execute_result",
     "data": {
      "text/plain": [
       "{'std': {'Coolers': 25.160695659313685,\n",
       "  'Crossbows': 12.771594902894329,\n",
       "  'Flippy Floppies': 63.84848305072555,\n",
       "  'Lawn Chairs': 14.015954112973176,\n",
       "  'Pool Noodles': 81.79242018671412,\n",
       "  'Umbrellas': 27.65315478741928,\n",
       "  'Waffle Irons': 61.0972895297229},\n",
       " 'mean': {'Coolers': 66.16666666666667,\n",
       "  'Crossbows': 19.25,\n",
       "  'Flippy Floppies': 140.58333333333334,\n",
       "  'Lawn Chairs': 31.916666666666668,\n",
       "  'Pool Noodles': 139.0,\n",
       "  'Umbrellas': 56.833333333333336,\n",
       "  'Waffle Irons': 53.833333333333336}}"
      ]
     },
     "metadata": {},
     "execution_count": 80
    }
   ],
   "source": [
    "df.groupby(df[\"item\"]).inventory.agg([\"std\",\"mean\"]).to_dict()"
   ]
  },
  {
   "cell_type": "code",
   "execution_count": 79,
   "metadata": {},
   "outputs": [
    {
     "output_type": "execute_result",
     "data": {
      "text/plain": [
       "{'std': {'Coolers': 0.6064691245357439,\n",
       "  'Crossbows': 1.9242584646527812,\n",
       "  'Flippy Floppies': 0.5212318206989006,\n",
       "  'Lawn Chairs': 1.0751400380951086,\n",
       "  'Pool Noodles': 0.7584887803548859,\n",
       "  'Umbrellas': 1.2263158108247598,\n",
       "  'Waffle Irons': 4.030339386904825},\n",
       " 'mean': {'Coolers': 0.7315583333333332,\n",
       "  'Crossbows': 3.5080666666666667,\n",
       "  'Flippy Floppies': 0.7076000000000001,\n",
       "  'Lawn Chairs': 1.0343833333333332,\n",
       "  'Pool Noodles': 0.7923583333333334,\n",
       "  'Umbrellas': 1.3184666666666665,\n",
       "  'Waffle Irons': 3.0801499999999997}}"
      ]
     },
     "metadata": {},
     "execution_count": 79
    }
   ],
   "source": [
    "df.groupby(df[\"item\"]).turnover.agg([\"std\",\"mean\"]).to_dict()"
   ]
  },
  {
   "cell_type": "code",
   "execution_count": 81,
   "metadata": {},
   "outputs": [
    {
     "output_type": "execute_result",
     "data": {
      "text/plain": [
       "{'std': {'Coolers': 29.05311228308137,\n",
       "  'Crossbows': 31.241362442645283,\n",
       "  'Flippy Floppies': 14.22838605383512,\n",
       "  'Lawn Chairs': 16.800748540322587,\n",
       "  'Pool Noodles': 19.873844544267147,\n",
       "  'Umbrellas': 21.111536412515544,\n",
       "  'Waffle Irons': 28.192385604283402},\n",
       " 'mean': {'Coolers': 38.583333333333336,\n",
       "  'Crossbows': 51.75,\n",
       "  'Flippy Floppies': 73.08333333333333,\n",
       "  'Lawn Chairs': 22.083333333333332,\n",
       "  'Pool Noodles': 64.66666666666667,\n",
       "  'Umbrellas': 48.333333333333336,\n",
       "  'Waffle Irons': 55.916666666666664}}"
      ]
     },
     "metadata": {},
     "execution_count": 81
    }
   ],
   "source": [
    "df.groupby(df[\"item\"]).sales.agg([\"std\",\"mean\"]).to_dict()"
   ]
  },
  {
   "cell_type": "code",
   "execution_count": null,
   "metadata": {},
   "outputs": [],
   "source": []
  }
 ]
}