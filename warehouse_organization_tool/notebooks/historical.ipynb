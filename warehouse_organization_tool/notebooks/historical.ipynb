{
 "metadata": {
  "language_info": {
   "codemirror_mode": {
    "name": "ipython",
    "version": 3
   },
   "file_extension": ".py",
   "mimetype": "text/x-python",
   "name": "python",
   "nbconvert_exporter": "python",
   "pygments_lexer": "ipython3",
   "version": "3.8.5"
  },
  "orig_nbformat": 2,
  "kernelspec": {
   "name": "pythonjvsc74a57bd03ee6c8ef552e3d212b0758219aa708e2de866316e590ae56a215a93885898c74",
   "display_name": "Python 3.8.5 64-bit ('.venv': poetry)"
  },
  "metadata": {
   "interpreter": {
    "hash": "3ee6c8ef552e3d212b0758219aa708e2de866316e590ae56a215a93885898c74"
   }
  }
 },
 "nbformat": 4,
 "nbformat_minor": 2,
 "cells": [
  {
   "cell_type": "code",
   "execution_count": 2,
   "metadata": {},
   "outputs": [],
   "source": [
    "import pandas as pd\n",
    "import numpy as np"
   ]
  },
  {
   "cell_type": "code",
   "execution_count": 3,
   "metadata": {},
   "outputs": [
    {
     "output_type": "execute_result",
     "data": {
      "text/plain": [
       "         item month  sales  inventory  orders  order size  turnover  \\\n",
       "0  lawn chair   Jan      5         50       0          20    0.1000   \n",
       "1  lawn chair   Feb      8         45       0          20    0.1778   \n",
       "2  lawn chair   Mar     12         37       0          20    0.3243   \n",
       "3  lawn chair   Apr     12         25       1          20    0.4800   \n",
       "4  lawn chair   May     23         33       1          20    0.6970   \n",
       "\n",
       "   Unnamed: 7       Unnamed: 8        Unnamed: 9           Unnamed: 10  \\\n",
       "0         NaN             item  AVERAGE of sales  AVERAGE of inventory   \n",
       "1         NaN           cooler                39                    66   \n",
       "2         NaN        crossbows                52                    23   \n",
       "3         NaN  flippy floppies                73                   141   \n",
       "4         NaN       lawn chair                22                    32   \n",
       "\n",
       "           Unnamed: 11     Unnamed: 12        Unnamed: 13         Unnamed: 14  \n",
       "0  AVERAGE of turnover  STDEV of sales  STDEV of turnover  STDEV of inventory  \n",
       "1                 0.73           29.05               0.61               25.16  \n",
       "2                 3.21           31.24               1.87               20.80  \n",
       "3                 0.71           14.23               0.52               63.85  \n",
       "4                 1.03           16.80               1.08               14.02  "
      ],
      "text/html": "<div>\n<style scoped>\n    .dataframe tbody tr th:only-of-type {\n        vertical-align: middle;\n    }\n\n    .dataframe tbody tr th {\n        vertical-align: top;\n    }\n\n    .dataframe thead th {\n        text-align: right;\n    }\n</style>\n<table border=\"1\" class=\"dataframe\">\n  <thead>\n    <tr style=\"text-align: right;\">\n      <th></th>\n      <th>item</th>\n      <th>month</th>\n      <th>sales</th>\n      <th>inventory</th>\n      <th>orders</th>\n      <th>order size</th>\n      <th>turnover</th>\n      <th>Unnamed: 7</th>\n      <th>Unnamed: 8</th>\n      <th>Unnamed: 9</th>\n      <th>Unnamed: 10</th>\n      <th>Unnamed: 11</th>\n      <th>Unnamed: 12</th>\n      <th>Unnamed: 13</th>\n      <th>Unnamed: 14</th>\n    </tr>\n  </thead>\n  <tbody>\n    <tr>\n      <th>0</th>\n      <td>lawn chair</td>\n      <td>Jan</td>\n      <td>5</td>\n      <td>50</td>\n      <td>0</td>\n      <td>20</td>\n      <td>0.1000</td>\n      <td>NaN</td>\n      <td>item</td>\n      <td>AVERAGE of sales</td>\n      <td>AVERAGE of inventory</td>\n      <td>AVERAGE of turnover</td>\n      <td>STDEV of sales</td>\n      <td>STDEV of turnover</td>\n      <td>STDEV of inventory</td>\n    </tr>\n    <tr>\n      <th>1</th>\n      <td>lawn chair</td>\n      <td>Feb</td>\n      <td>8</td>\n      <td>45</td>\n      <td>0</td>\n      <td>20</td>\n      <td>0.1778</td>\n      <td>NaN</td>\n      <td>cooler</td>\n      <td>39</td>\n      <td>66</td>\n      <td>0.73</td>\n      <td>29.05</td>\n      <td>0.61</td>\n      <td>25.16</td>\n    </tr>\n    <tr>\n      <th>2</th>\n      <td>lawn chair</td>\n      <td>Mar</td>\n      <td>12</td>\n      <td>37</td>\n      <td>0</td>\n      <td>20</td>\n      <td>0.3243</td>\n      <td>NaN</td>\n      <td>crossbows</td>\n      <td>52</td>\n      <td>23</td>\n      <td>3.21</td>\n      <td>31.24</td>\n      <td>1.87</td>\n      <td>20.80</td>\n    </tr>\n    <tr>\n      <th>3</th>\n      <td>lawn chair</td>\n      <td>Apr</td>\n      <td>12</td>\n      <td>25</td>\n      <td>1</td>\n      <td>20</td>\n      <td>0.4800</td>\n      <td>NaN</td>\n      <td>flippy floppies</td>\n      <td>73</td>\n      <td>141</td>\n      <td>0.71</td>\n      <td>14.23</td>\n      <td>0.52</td>\n      <td>63.85</td>\n    </tr>\n    <tr>\n      <th>4</th>\n      <td>lawn chair</td>\n      <td>May</td>\n      <td>23</td>\n      <td>33</td>\n      <td>1</td>\n      <td>20</td>\n      <td>0.6970</td>\n      <td>NaN</td>\n      <td>lawn chair</td>\n      <td>22</td>\n      <td>32</td>\n      <td>1.03</td>\n      <td>16.80</td>\n      <td>1.08</td>\n      <td>14.02</td>\n    </tr>\n  </tbody>\n</table>\n</div>"
     },
     "metadata": {},
     "execution_count": 3
    }
   ],
   "source": [
    "df = pd.read_csv('./historical.csv')\n",
    "df.head()"
   ]
  },
  {
   "cell_type": "code",
   "execution_count": 4,
   "metadata": {},
   "outputs": [],
   "source": [
    "sales_data = df[\"sales\"].groupby(df['item'])\n",
    "inventory_data = df[\"inventory\"].groupby(df['item'])\n",
    "order_data = df[\"orders\"].groupby(df['item'])\n",
    "\n"
   ]
  },
  {
   "cell_type": "code",
   "execution_count": 5,
   "metadata": {},
   "outputs": [
    {
     "output_type": "execute_result",
     "data": {
      "text/plain": [
       "item\n",
       "cooler              78\n",
       "crossbows          142\n",
       "flippy floppies     90\n",
       "lawn chair          50\n",
       "pool noodle         98\n",
       "umbrellas           70\n",
       "waffle iron        112\n",
       "Name: sales, dtype: int64"
      ]
     },
     "metadata": {},
     "execution_count": 5
    }
   ],
   "source": [
    "df[\"sales\"].groupby(df['item']).max()\n"
   ]
  },
  {
   "cell_type": "code",
   "execution_count": 6,
   "metadata": {},
   "outputs": [
    {
     "output_type": "execute_result",
     "data": {
      "text/plain": [
       "               item month  sales  inventory  orders  order size  turnover  \\\n",
       "30           cooler   Jul     78         68       6          10    1.1471   \n",
       "47        crossbows   Dec    142         76       5           5    1.8684   \n",
       "74  flippy floppies   Mar     90         46       1         100    1.9565   \n",
       "6        lawn chair   Jul     50         25       2          20    2.0000   \n",
       "62      pool noodle   Mar     98         69       1          50    1.4203   \n",
       "15        umbrellas   Apr     70         85       1          25    0.8235   \n",
       "49      waffle iron   Feb    112        157       0          20    0.7134   \n",
       "\n",
       "    Unnamed: 7 Unnamed: 8 Unnamed: 9 Unnamed: 10 Unnamed: 11 Unnamed: 12  \\\n",
       "30         NaN        NaN        NaN         NaN         NaN         NaN   \n",
       "47         NaN        NaN        NaN         NaN         NaN         NaN   \n",
       "74         NaN        NaN        NaN         NaN         NaN         NaN   \n",
       "6          NaN  umbrellas         48          57        1.32       21.11   \n",
       "62         NaN        NaN        NaN         NaN         NaN         NaN   \n",
       "15         NaN        NaN        NaN         NaN         NaN         NaN   \n",
       "49         NaN        NaN        NaN         NaN         NaN         NaN   \n",
       "\n",
       "   Unnamed: 13 Unnamed: 14  \n",
       "30         NaN         NaN  \n",
       "47         NaN         NaN  \n",
       "74         NaN         NaN  \n",
       "6         1.23       27.65  \n",
       "62         NaN         NaN  \n",
       "15         NaN         NaN  \n",
       "49         NaN         NaN  "
      ],
      "text/html": "<div>\n<style scoped>\n    .dataframe tbody tr th:only-of-type {\n        vertical-align: middle;\n    }\n\n    .dataframe tbody tr th {\n        vertical-align: top;\n    }\n\n    .dataframe thead th {\n        text-align: right;\n    }\n</style>\n<table border=\"1\" class=\"dataframe\">\n  <thead>\n    <tr style=\"text-align: right;\">\n      <th></th>\n      <th>item</th>\n      <th>month</th>\n      <th>sales</th>\n      <th>inventory</th>\n      <th>orders</th>\n      <th>order size</th>\n      <th>turnover</th>\n      <th>Unnamed: 7</th>\n      <th>Unnamed: 8</th>\n      <th>Unnamed: 9</th>\n      <th>Unnamed: 10</th>\n      <th>Unnamed: 11</th>\n      <th>Unnamed: 12</th>\n      <th>Unnamed: 13</th>\n      <th>Unnamed: 14</th>\n    </tr>\n  </thead>\n  <tbody>\n    <tr>\n      <th>30</th>\n      <td>cooler</td>\n      <td>Jul</td>\n      <td>78</td>\n      <td>68</td>\n      <td>6</td>\n      <td>10</td>\n      <td>1.1471</td>\n      <td>NaN</td>\n      <td>NaN</td>\n      <td>NaN</td>\n      <td>NaN</td>\n      <td>NaN</td>\n      <td>NaN</td>\n      <td>NaN</td>\n      <td>NaN</td>\n    </tr>\n    <tr>\n      <th>47</th>\n      <td>crossbows</td>\n      <td>Dec</td>\n      <td>142</td>\n      <td>76</td>\n      <td>5</td>\n      <td>5</td>\n      <td>1.8684</td>\n      <td>NaN</td>\n      <td>NaN</td>\n      <td>NaN</td>\n      <td>NaN</td>\n      <td>NaN</td>\n      <td>NaN</td>\n      <td>NaN</td>\n      <td>NaN</td>\n    </tr>\n    <tr>\n      <th>74</th>\n      <td>flippy floppies</td>\n      <td>Mar</td>\n      <td>90</td>\n      <td>46</td>\n      <td>1</td>\n      <td>100</td>\n      <td>1.9565</td>\n      <td>NaN</td>\n      <td>NaN</td>\n      <td>NaN</td>\n      <td>NaN</td>\n      <td>NaN</td>\n      <td>NaN</td>\n      <td>NaN</td>\n      <td>NaN</td>\n    </tr>\n    <tr>\n      <th>6</th>\n      <td>lawn chair</td>\n      <td>Jul</td>\n      <td>50</td>\n      <td>25</td>\n      <td>2</td>\n      <td>20</td>\n      <td>2.0000</td>\n      <td>NaN</td>\n      <td>umbrellas</td>\n      <td>48</td>\n      <td>57</td>\n      <td>1.32</td>\n      <td>21.11</td>\n      <td>1.23</td>\n      <td>27.65</td>\n    </tr>\n    <tr>\n      <th>62</th>\n      <td>pool noodle</td>\n      <td>Mar</td>\n      <td>98</td>\n      <td>69</td>\n      <td>1</td>\n      <td>50</td>\n      <td>1.4203</td>\n      <td>NaN</td>\n      <td>NaN</td>\n      <td>NaN</td>\n      <td>NaN</td>\n      <td>NaN</td>\n      <td>NaN</td>\n      <td>NaN</td>\n      <td>NaN</td>\n    </tr>\n    <tr>\n      <th>15</th>\n      <td>umbrellas</td>\n      <td>Apr</td>\n      <td>70</td>\n      <td>85</td>\n      <td>1</td>\n      <td>25</td>\n      <td>0.8235</td>\n      <td>NaN</td>\n      <td>NaN</td>\n      <td>NaN</td>\n      <td>NaN</td>\n      <td>NaN</td>\n      <td>NaN</td>\n      <td>NaN</td>\n      <td>NaN</td>\n    </tr>\n    <tr>\n      <th>49</th>\n      <td>waffle iron</td>\n      <td>Feb</td>\n      <td>112</td>\n      <td>157</td>\n      <td>0</td>\n      <td>20</td>\n      <td>0.7134</td>\n      <td>NaN</td>\n      <td>NaN</td>\n      <td>NaN</td>\n      <td>NaN</td>\n      <td>NaN</td>\n      <td>NaN</td>\n      <td>NaN</td>\n      <td>NaN</td>\n    </tr>\n  </tbody>\n</table>\n</div>"
     },
     "metadata": {},
     "execution_count": 6
    }
   ],
   "source": [
    "df.loc[df.groupby(\"item\")[\"sales\"].idxmax()]"
   ]
  },
  {
   "cell_type": "code",
   "execution_count": 7,
   "metadata": {},
   "outputs": [
    {
     "output_type": "execute_result",
     "data": {
      "text/plain": [
       "item\n",
       "cooler             39.0\n",
       "crossbows          52.0\n",
       "flippy floppies    73.0\n",
       "lawn chair         22.0\n",
       "pool noodle        65.0\n",
       "umbrellas          48.0\n",
       "waffle iron        56.0\n",
       "Name: sales, dtype: float64"
      ]
     },
     "metadata": {},
     "execution_count": 7
    }
   ],
   "source": [
    "df[\"sales\"].groupby(df['item']).mean().round()\n"
   ]
  },
  {
   "cell_type": "code",
   "execution_count": 8,
   "metadata": {},
   "outputs": [
    {
     "output_type": "execute_result",
     "data": {
      "text/plain": [
       "item\n",
       "cooler              66.0\n",
       "crossbows           23.0\n",
       "flippy floppies    141.0\n",
       "lawn chair          32.0\n",
       "pool noodle        139.0\n",
       "umbrellas           57.0\n",
       "waffle iron         54.0\n",
       "Name: inventory, dtype: float64"
      ]
     },
     "metadata": {},
     "execution_count": 8
    }
   ],
   "source": [
    "df[\"inventory\"].groupby(df['item']).mean().round()\n"
   ]
  },
  {
   "source": [
    "### STDEV OF Inventory"
   ],
   "cell_type": "markdown",
   "metadata": {}
  },
  {
   "cell_type": "code",
   "execution_count": 9,
   "metadata": {},
   "outputs": [
    {
     "output_type": "execute_result",
     "data": {
      "text/plain": [
       "item\n",
       "cooler             25.0\n",
       "crossbows          21.0\n",
       "flippy floppies    64.0\n",
       "lawn chair         14.0\n",
       "pool noodle        82.0\n",
       "umbrellas          28.0\n",
       "waffle iron        61.0\n",
       "Name: inventory, dtype: float64"
      ]
     },
     "metadata": {},
     "execution_count": 9
    }
   ],
   "source": [
    "df[\"inventory\"].groupby(df['item']).std().round()"
   ]
  },
  {
   "cell_type": "code",
   "execution_count": 10,
   "metadata": {},
   "outputs": [
    {
     "output_type": "execute_result",
     "data": {
      "text/plain": [
       "               item month  sales  inventory  orders  order size  turnover  \\\n",
       "30           cooler   Jul     78         68       6          10    1.1471   \n",
       "47        crossbows   Dec    142         76       5           5    1.8684   \n",
       "74  flippy floppies   Mar     90         46       1         100    1.9565   \n",
       "6        lawn chair   Jul     50         25       2          20    2.0000   \n",
       "62      pool noodle   Mar     98         69       1          50    1.4203   \n",
       "15        umbrellas   Apr     70         85       1          25    0.8235   \n",
       "49      waffle iron   Feb    112        157       0          20    0.7134   \n",
       "\n",
       "    Unnamed: 7 Unnamed: 8 Unnamed: 9 Unnamed: 10 Unnamed: 11 Unnamed: 12  \\\n",
       "30         NaN        NaN        NaN         NaN         NaN         NaN   \n",
       "47         NaN        NaN        NaN         NaN         NaN         NaN   \n",
       "74         NaN        NaN        NaN         NaN         NaN         NaN   \n",
       "6          NaN  umbrellas         48          57        1.32       21.11   \n",
       "62         NaN        NaN        NaN         NaN         NaN         NaN   \n",
       "15         NaN        NaN        NaN         NaN         NaN         NaN   \n",
       "49         NaN        NaN        NaN         NaN         NaN         NaN   \n",
       "\n",
       "   Unnamed: 13 Unnamed: 14  \n",
       "30         NaN         NaN  \n",
       "47         NaN         NaN  \n",
       "74         NaN         NaN  \n",
       "6         1.23       27.65  \n",
       "62         NaN         NaN  \n",
       "15         NaN         NaN  \n",
       "49         NaN         NaN  "
      ],
      "text/html": "<div>\n<style scoped>\n    .dataframe tbody tr th:only-of-type {\n        vertical-align: middle;\n    }\n\n    .dataframe tbody tr th {\n        vertical-align: top;\n    }\n\n    .dataframe thead th {\n        text-align: right;\n    }\n</style>\n<table border=\"1\" class=\"dataframe\">\n  <thead>\n    <tr style=\"text-align: right;\">\n      <th></th>\n      <th>item</th>\n      <th>month</th>\n      <th>sales</th>\n      <th>inventory</th>\n      <th>orders</th>\n      <th>order size</th>\n      <th>turnover</th>\n      <th>Unnamed: 7</th>\n      <th>Unnamed: 8</th>\n      <th>Unnamed: 9</th>\n      <th>Unnamed: 10</th>\n      <th>Unnamed: 11</th>\n      <th>Unnamed: 12</th>\n      <th>Unnamed: 13</th>\n      <th>Unnamed: 14</th>\n    </tr>\n  </thead>\n  <tbody>\n    <tr>\n      <th>30</th>\n      <td>cooler</td>\n      <td>Jul</td>\n      <td>78</td>\n      <td>68</td>\n      <td>6</td>\n      <td>10</td>\n      <td>1.1471</td>\n      <td>NaN</td>\n      <td>NaN</td>\n      <td>NaN</td>\n      <td>NaN</td>\n      <td>NaN</td>\n      <td>NaN</td>\n      <td>NaN</td>\n      <td>NaN</td>\n    </tr>\n    <tr>\n      <th>47</th>\n      <td>crossbows</td>\n      <td>Dec</td>\n      <td>142</td>\n      <td>76</td>\n      <td>5</td>\n      <td>5</td>\n      <td>1.8684</td>\n      <td>NaN</td>\n      <td>NaN</td>\n      <td>NaN</td>\n      <td>NaN</td>\n      <td>NaN</td>\n      <td>NaN</td>\n      <td>NaN</td>\n      <td>NaN</td>\n    </tr>\n    <tr>\n      <th>74</th>\n      <td>flippy floppies</td>\n      <td>Mar</td>\n      <td>90</td>\n      <td>46</td>\n      <td>1</td>\n      <td>100</td>\n      <td>1.9565</td>\n      <td>NaN</td>\n      <td>NaN</td>\n      <td>NaN</td>\n      <td>NaN</td>\n      <td>NaN</td>\n      <td>NaN</td>\n      <td>NaN</td>\n      <td>NaN</td>\n    </tr>\n    <tr>\n      <th>6</th>\n      <td>lawn chair</td>\n      <td>Jul</td>\n      <td>50</td>\n      <td>25</td>\n      <td>2</td>\n      <td>20</td>\n      <td>2.0000</td>\n      <td>NaN</td>\n      <td>umbrellas</td>\n      <td>48</td>\n      <td>57</td>\n      <td>1.32</td>\n      <td>21.11</td>\n      <td>1.23</td>\n      <td>27.65</td>\n    </tr>\n    <tr>\n      <th>62</th>\n      <td>pool noodle</td>\n      <td>Mar</td>\n      <td>98</td>\n      <td>69</td>\n      <td>1</td>\n      <td>50</td>\n      <td>1.4203</td>\n      <td>NaN</td>\n      <td>NaN</td>\n      <td>NaN</td>\n      <td>NaN</td>\n      <td>NaN</td>\n      <td>NaN</td>\n      <td>NaN</td>\n      <td>NaN</td>\n    </tr>\n    <tr>\n      <th>15</th>\n      <td>umbrellas</td>\n      <td>Apr</td>\n      <td>70</td>\n      <td>85</td>\n      <td>1</td>\n      <td>25</td>\n      <td>0.8235</td>\n      <td>NaN</td>\n      <td>NaN</td>\n      <td>NaN</td>\n      <td>NaN</td>\n      <td>NaN</td>\n      <td>NaN</td>\n      <td>NaN</td>\n      <td>NaN</td>\n    </tr>\n    <tr>\n      <th>49</th>\n      <td>waffle iron</td>\n      <td>Feb</td>\n      <td>112</td>\n      <td>157</td>\n      <td>0</td>\n      <td>20</td>\n      <td>0.7134</td>\n      <td>NaN</td>\n      <td>NaN</td>\n      <td>NaN</td>\n      <td>NaN</td>\n      <td>NaN</td>\n      <td>NaN</td>\n      <td>NaN</td>\n      <td>NaN</td>\n    </tr>\n  </tbody>\n</table>\n</div>"
     },
     "metadata": {},
     "execution_count": 10
    }
   ],
   "source": [
    "df.loc[df.groupby(\"item\")[\"sales\"].idxmax()]"
   ]
  },
  {
   "cell_type": "code",
   "execution_count": 11,
   "metadata": {},
   "outputs": [
    {
     "output_type": "execute_result",
     "data": {
      "text/plain": [
       "                  inventory  order size    orders      sales  turnover\n",
       "item                                                                  \n",
       "cooler            66.166667          10  3.333333  38.583333  0.731558\n",
       "crossbows         23.416667           5  8.833333  51.750000  3.208642\n",
       "flippy floppies  140.583333         100  0.666667  73.083333  0.707600\n",
       "lawn chair        31.916667          20  1.083333  22.083333  1.034383\n",
       "pool noodle      139.000000          50  0.916667  64.666667  0.792358\n",
       "umbrellas         56.833333          25  1.916667  48.333333  1.318467\n",
       "waffle iron       53.833333          20  1.583333  55.916667  3.080150"
      ],
      "text/html": "<div>\n<style scoped>\n    .dataframe tbody tr th:only-of-type {\n        vertical-align: middle;\n    }\n\n    .dataframe tbody tr th {\n        vertical-align: top;\n    }\n\n    .dataframe thead th {\n        text-align: right;\n    }\n</style>\n<table border=\"1\" class=\"dataframe\">\n  <thead>\n    <tr style=\"text-align: right;\">\n      <th></th>\n      <th>inventory</th>\n      <th>order size</th>\n      <th>orders</th>\n      <th>sales</th>\n      <th>turnover</th>\n    </tr>\n    <tr>\n      <th>item</th>\n      <th></th>\n      <th></th>\n      <th></th>\n      <th></th>\n      <th></th>\n    </tr>\n  </thead>\n  <tbody>\n    <tr>\n      <th>cooler</th>\n      <td>66.166667</td>\n      <td>10</td>\n      <td>3.333333</td>\n      <td>38.583333</td>\n      <td>0.731558</td>\n    </tr>\n    <tr>\n      <th>crossbows</th>\n      <td>23.416667</td>\n      <td>5</td>\n      <td>8.833333</td>\n      <td>51.750000</td>\n      <td>3.208642</td>\n    </tr>\n    <tr>\n      <th>flippy floppies</th>\n      <td>140.583333</td>\n      <td>100</td>\n      <td>0.666667</td>\n      <td>73.083333</td>\n      <td>0.707600</td>\n    </tr>\n    <tr>\n      <th>lawn chair</th>\n      <td>31.916667</td>\n      <td>20</td>\n      <td>1.083333</td>\n      <td>22.083333</td>\n      <td>1.034383</td>\n    </tr>\n    <tr>\n      <th>pool noodle</th>\n      <td>139.000000</td>\n      <td>50</td>\n      <td>0.916667</td>\n      <td>64.666667</td>\n      <td>0.792358</td>\n    </tr>\n    <tr>\n      <th>umbrellas</th>\n      <td>56.833333</td>\n      <td>25</td>\n      <td>1.916667</td>\n      <td>48.333333</td>\n      <td>1.318467</td>\n    </tr>\n    <tr>\n      <th>waffle iron</th>\n      <td>53.833333</td>\n      <td>20</td>\n      <td>1.583333</td>\n      <td>55.916667</td>\n      <td>3.080150</td>\n    </tr>\n  </tbody>\n</table>\n</div>"
     },
     "metadata": {},
     "execution_count": 11
    }
   ],
   "source": [
    "df.pivot_table(index='item', aggfunc='mean')"
   ]
  },
  {
   "cell_type": "code",
   "execution_count": 12,
   "metadata": {},
   "outputs": [
    {
     "output_type": "execute_result",
     "data": {
      "text/plain": [
       "                 sales\n",
       "item                  \n",
       "cooler              78\n",
       "crossbows          142\n",
       "flippy floppies     90\n",
       "lawn chair          50\n",
       "pool noodle         98\n",
       "umbrellas           70\n",
       "waffle iron        112"
      ],
      "text/html": "<div>\n<style scoped>\n    .dataframe tbody tr th:only-of-type {\n        vertical-align: middle;\n    }\n\n    .dataframe tbody tr th {\n        vertical-align: top;\n    }\n\n    .dataframe thead th {\n        text-align: right;\n    }\n</style>\n<table border=\"1\" class=\"dataframe\">\n  <thead>\n    <tr style=\"text-align: right;\">\n      <th></th>\n      <th>sales</th>\n    </tr>\n    <tr>\n      <th>item</th>\n      <th></th>\n    </tr>\n  </thead>\n  <tbody>\n    <tr>\n      <th>cooler</th>\n      <td>78</td>\n    </tr>\n    <tr>\n      <th>crossbows</th>\n      <td>142</td>\n    </tr>\n    <tr>\n      <th>flippy floppies</th>\n      <td>90</td>\n    </tr>\n    <tr>\n      <th>lawn chair</th>\n      <td>50</td>\n    </tr>\n    <tr>\n      <th>pool noodle</th>\n      <td>98</td>\n    </tr>\n    <tr>\n      <th>umbrellas</th>\n      <td>70</td>\n    </tr>\n    <tr>\n      <th>waffle iron</th>\n      <td>112</td>\n    </tr>\n  </tbody>\n</table>\n</div>"
     },
     "metadata": {},
     "execution_count": 12
    }
   ],
   "source": [
    "df.pivot_table(values = \"sales\", index='item', aggfunc='max')"
   ]
  },
  {
   "cell_type": "code",
   "execution_count": 13,
   "metadata": {},
   "outputs": [
    {
     "output_type": "execute_result",
     "data": {
      "text/plain": [
       "                 max  mean\n",
       "item                      \n",
       "cooler            78  39.0\n",
       "crossbows        142  52.0\n",
       "flippy floppies   90  73.0\n",
       "lawn chair        50  22.0\n",
       "pool noodle       98  65.0\n",
       "umbrellas         70  48.0\n",
       "waffle iron      112  56.0"
      ],
      "text/html": "<div>\n<style scoped>\n    .dataframe tbody tr th:only-of-type {\n        vertical-align: middle;\n    }\n\n    .dataframe tbody tr th {\n        vertical-align: top;\n    }\n\n    .dataframe thead th {\n        text-align: right;\n    }\n</style>\n<table border=\"1\" class=\"dataframe\">\n  <thead>\n    <tr style=\"text-align: right;\">\n      <th></th>\n      <th>max</th>\n      <th>mean</th>\n    </tr>\n    <tr>\n      <th>item</th>\n      <th></th>\n      <th></th>\n    </tr>\n  </thead>\n  <tbody>\n    <tr>\n      <th>cooler</th>\n      <td>78</td>\n      <td>39.0</td>\n    </tr>\n    <tr>\n      <th>crossbows</th>\n      <td>142</td>\n      <td>52.0</td>\n    </tr>\n    <tr>\n      <th>flippy floppies</th>\n      <td>90</td>\n      <td>73.0</td>\n    </tr>\n    <tr>\n      <th>lawn chair</th>\n      <td>50</td>\n      <td>22.0</td>\n    </tr>\n    <tr>\n      <th>pool noodle</th>\n      <td>98</td>\n      <td>65.0</td>\n    </tr>\n    <tr>\n      <th>umbrellas</th>\n      <td>70</td>\n      <td>48.0</td>\n    </tr>\n    <tr>\n      <th>waffle iron</th>\n      <td>112</td>\n      <td>56.0</td>\n    </tr>\n  </tbody>\n</table>\n</div>"
     },
     "metadata": {},
     "execution_count": 13
    }
   ],
   "source": [
    "df.groupby(df[\"item\"]).sales.agg([\"max\",\"mean\"]).round()"
   ]
  },
  {
   "cell_type": "code",
   "execution_count": 14,
   "metadata": {},
   "outputs": [
    {
     "output_type": "execute_result",
     "data": {
      "text/plain": [
       "                 max   mean\n",
       "item                       \n",
       "cooler           100   66.0\n",
       "crossbows         76   23.0\n",
       "flippy floppies  233  141.0\n",
       "lawn chair        53   32.0\n",
       "pool noodle      276  139.0\n",
       "umbrellas        104   57.0\n",
       "waffle iron      200   54.0"
      ],
      "text/html": "<div>\n<style scoped>\n    .dataframe tbody tr th:only-of-type {\n        vertical-align: middle;\n    }\n\n    .dataframe tbody tr th {\n        vertical-align: top;\n    }\n\n    .dataframe thead th {\n        text-align: right;\n    }\n</style>\n<table border=\"1\" class=\"dataframe\">\n  <thead>\n    <tr style=\"text-align: right;\">\n      <th></th>\n      <th>max</th>\n      <th>mean</th>\n    </tr>\n    <tr>\n      <th>item</th>\n      <th></th>\n      <th></th>\n    </tr>\n  </thead>\n  <tbody>\n    <tr>\n      <th>cooler</th>\n      <td>100</td>\n      <td>66.0</td>\n    </tr>\n    <tr>\n      <th>crossbows</th>\n      <td>76</td>\n      <td>23.0</td>\n    </tr>\n    <tr>\n      <th>flippy floppies</th>\n      <td>233</td>\n      <td>141.0</td>\n    </tr>\n    <tr>\n      <th>lawn chair</th>\n      <td>53</td>\n      <td>32.0</td>\n    </tr>\n    <tr>\n      <th>pool noodle</th>\n      <td>276</td>\n      <td>139.0</td>\n    </tr>\n    <tr>\n      <th>umbrellas</th>\n      <td>104</td>\n      <td>57.0</td>\n    </tr>\n    <tr>\n      <th>waffle iron</th>\n      <td>200</td>\n      <td>54.0</td>\n    </tr>\n  </tbody>\n</table>\n</div>"
     },
     "metadata": {},
     "execution_count": 14
    }
   ],
   "source": [
    "df.groupby(df[\"item\"]).inventory.agg([\"max\",\"mean\"]).round()"
   ]
  },
  {
   "cell_type": "code",
   "execution_count": 15,
   "metadata": {},
   "outputs": [
    {
     "output_type": "execute_result",
     "data": {
      "text/plain": [
       "                      std      mean\n",
       "item                               \n",
       "cooler           0.606469  0.731558\n",
       "crossbows        1.871490  3.208642\n",
       "flippy floppies  0.521232  0.707600\n",
       "lawn chair       1.075140  1.034383\n",
       "pool noodle      0.758489  0.792358\n",
       "umbrellas        1.226316  1.318467\n",
       "waffle iron      4.030339  3.080150"
      ],
      "text/html": "<div>\n<style scoped>\n    .dataframe tbody tr th:only-of-type {\n        vertical-align: middle;\n    }\n\n    .dataframe tbody tr th {\n        vertical-align: top;\n    }\n\n    .dataframe thead th {\n        text-align: right;\n    }\n</style>\n<table border=\"1\" class=\"dataframe\">\n  <thead>\n    <tr style=\"text-align: right;\">\n      <th></th>\n      <th>std</th>\n      <th>mean</th>\n    </tr>\n    <tr>\n      <th>item</th>\n      <th></th>\n      <th></th>\n    </tr>\n  </thead>\n  <tbody>\n    <tr>\n      <th>cooler</th>\n      <td>0.606469</td>\n      <td>0.731558</td>\n    </tr>\n    <tr>\n      <th>crossbows</th>\n      <td>1.871490</td>\n      <td>3.208642</td>\n    </tr>\n    <tr>\n      <th>flippy floppies</th>\n      <td>0.521232</td>\n      <td>0.707600</td>\n    </tr>\n    <tr>\n      <th>lawn chair</th>\n      <td>1.075140</td>\n      <td>1.034383</td>\n    </tr>\n    <tr>\n      <th>pool noodle</th>\n      <td>0.758489</td>\n      <td>0.792358</td>\n    </tr>\n    <tr>\n      <th>umbrellas</th>\n      <td>1.226316</td>\n      <td>1.318467</td>\n    </tr>\n    <tr>\n      <th>waffle iron</th>\n      <td>4.030339</td>\n      <td>3.080150</td>\n    </tr>\n  </tbody>\n</table>\n</div>"
     },
     "metadata": {},
     "execution_count": 15
    }
   ],
   "source": [
    "df.groupby(df[\"item\"]).turnover.agg([\"std\",\"mean\"])"
   ]
  },
  {
   "cell_type": "code",
   "execution_count": 16,
   "metadata": {},
   "outputs": [
    {
     "output_type": "execute_result",
     "data": {
      "text/plain": [
       "               item month  sales  inventory  orders  order size  turnover  \\\n",
       "30           cooler   Jul     78         68       6          10    1.1471   \n",
       "47        crossbows   Dec    142         76       5           5    1.8684   \n",
       "74  flippy floppies   Mar     90         46       1         100    1.9565   \n",
       "6        lawn chair   Jul     50         25       2          20    2.0000   \n",
       "62      pool noodle   Mar     98         69       1          50    1.4203   \n",
       "15        umbrellas   Apr     70         85       1          25    0.8235   \n",
       "49      waffle iron   Feb    112        157       0          20    0.7134   \n",
       "\n",
       "    Unnamed: 7 Unnamed: 8 Unnamed: 9 Unnamed: 10 Unnamed: 11 Unnamed: 12  \\\n",
       "30         NaN        NaN        NaN         NaN         NaN         NaN   \n",
       "47         NaN        NaN        NaN         NaN         NaN         NaN   \n",
       "74         NaN        NaN        NaN         NaN         NaN         NaN   \n",
       "6          NaN  umbrellas         48          57        1.32       21.11   \n",
       "62         NaN        NaN        NaN         NaN         NaN         NaN   \n",
       "15         NaN        NaN        NaN         NaN         NaN         NaN   \n",
       "49         NaN        NaN        NaN         NaN         NaN         NaN   \n",
       "\n",
       "   Unnamed: 13 Unnamed: 14  \n",
       "30         NaN         NaN  \n",
       "47         NaN         NaN  \n",
       "74         NaN         NaN  \n",
       "6         1.23       27.65  \n",
       "62         NaN         NaN  \n",
       "15         NaN         NaN  \n",
       "49         NaN         NaN  "
      ],
      "text/html": "<div>\n<style scoped>\n    .dataframe tbody tr th:only-of-type {\n        vertical-align: middle;\n    }\n\n    .dataframe tbody tr th {\n        vertical-align: top;\n    }\n\n    .dataframe thead th {\n        text-align: right;\n    }\n</style>\n<table border=\"1\" class=\"dataframe\">\n  <thead>\n    <tr style=\"text-align: right;\">\n      <th></th>\n      <th>item</th>\n      <th>month</th>\n      <th>sales</th>\n      <th>inventory</th>\n      <th>orders</th>\n      <th>order size</th>\n      <th>turnover</th>\n      <th>Unnamed: 7</th>\n      <th>Unnamed: 8</th>\n      <th>Unnamed: 9</th>\n      <th>Unnamed: 10</th>\n      <th>Unnamed: 11</th>\n      <th>Unnamed: 12</th>\n      <th>Unnamed: 13</th>\n      <th>Unnamed: 14</th>\n    </tr>\n  </thead>\n  <tbody>\n    <tr>\n      <th>30</th>\n      <td>cooler</td>\n      <td>Jul</td>\n      <td>78</td>\n      <td>68</td>\n      <td>6</td>\n      <td>10</td>\n      <td>1.1471</td>\n      <td>NaN</td>\n      <td>NaN</td>\n      <td>NaN</td>\n      <td>NaN</td>\n      <td>NaN</td>\n      <td>NaN</td>\n      <td>NaN</td>\n      <td>NaN</td>\n    </tr>\n    <tr>\n      <th>47</th>\n      <td>crossbows</td>\n      <td>Dec</td>\n      <td>142</td>\n      <td>76</td>\n      <td>5</td>\n      <td>5</td>\n      <td>1.8684</td>\n      <td>NaN</td>\n      <td>NaN</td>\n      <td>NaN</td>\n      <td>NaN</td>\n      <td>NaN</td>\n      <td>NaN</td>\n      <td>NaN</td>\n      <td>NaN</td>\n    </tr>\n    <tr>\n      <th>74</th>\n      <td>flippy floppies</td>\n      <td>Mar</td>\n      <td>90</td>\n      <td>46</td>\n      <td>1</td>\n      <td>100</td>\n      <td>1.9565</td>\n      <td>NaN</td>\n      <td>NaN</td>\n      <td>NaN</td>\n      <td>NaN</td>\n      <td>NaN</td>\n      <td>NaN</td>\n      <td>NaN</td>\n      <td>NaN</td>\n    </tr>\n    <tr>\n      <th>6</th>\n      <td>lawn chair</td>\n      <td>Jul</td>\n      <td>50</td>\n      <td>25</td>\n      <td>2</td>\n      <td>20</td>\n      <td>2.0000</td>\n      <td>NaN</td>\n      <td>umbrellas</td>\n      <td>48</td>\n      <td>57</td>\n      <td>1.32</td>\n      <td>21.11</td>\n      <td>1.23</td>\n      <td>27.65</td>\n    </tr>\n    <tr>\n      <th>62</th>\n      <td>pool noodle</td>\n      <td>Mar</td>\n      <td>98</td>\n      <td>69</td>\n      <td>1</td>\n      <td>50</td>\n      <td>1.4203</td>\n      <td>NaN</td>\n      <td>NaN</td>\n      <td>NaN</td>\n      <td>NaN</td>\n      <td>NaN</td>\n      <td>NaN</td>\n      <td>NaN</td>\n      <td>NaN</td>\n    </tr>\n    <tr>\n      <th>15</th>\n      <td>umbrellas</td>\n      <td>Apr</td>\n      <td>70</td>\n      <td>85</td>\n      <td>1</td>\n      <td>25</td>\n      <td>0.8235</td>\n      <td>NaN</td>\n      <td>NaN</td>\n      <td>NaN</td>\n      <td>NaN</td>\n      <td>NaN</td>\n      <td>NaN</td>\n      <td>NaN</td>\n      <td>NaN</td>\n    </tr>\n    <tr>\n      <th>49</th>\n      <td>waffle iron</td>\n      <td>Feb</td>\n      <td>112</td>\n      <td>157</td>\n      <td>0</td>\n      <td>20</td>\n      <td>0.7134</td>\n      <td>NaN</td>\n      <td>NaN</td>\n      <td>NaN</td>\n      <td>NaN</td>\n      <td>NaN</td>\n      <td>NaN</td>\n      <td>NaN</td>\n      <td>NaN</td>\n    </tr>\n  </tbody>\n</table>\n</div>"
     },
     "metadata": {},
     "execution_count": 16
    }
   ],
   "source": [
    "df.loc[df.groupby(\"item\")[\"sales\"].idxmax()]"
   ]
  },
  {
   "cell_type": "code",
   "execution_count": null,
   "metadata": {},
   "outputs": [],
   "source": []
  }
 ]
}