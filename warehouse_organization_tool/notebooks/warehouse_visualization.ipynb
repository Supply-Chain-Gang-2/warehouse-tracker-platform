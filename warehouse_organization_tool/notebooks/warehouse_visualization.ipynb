{
 "metadata": {
  "language_info": {
   "codemirror_mode": {
    "name": "ipython",
    "version": 3
   },
   "file_extension": ".py",
   "mimetype": "text/x-python",
   "name": "python",
   "nbconvert_exporter": "python",
   "pygments_lexer": "ipython3",
   "version": "3.9.5"
  },
  "orig_nbformat": 2,
  "kernelspec": {
   "name": "python3",
   "display_name": "Python 3.9.5 64-bit",
   "metadata": {
    "interpreter": {
     "hash": "50d0fe5ac50071f739bd135571591e8c0272d23cd481e2bfb07062ccb62c21c2"
    }
   }
  }
 },
 "nbformat": 4,
 "nbformat_minor": 2,
 "cells": [
  {
   "cell_type": "code",
   "execution_count": 1,
   "metadata": {},
   "outputs": [
    {
     "output_type": "stream",
     "name": "stdout",
     "text": [
      "ln: warehouse.py: File exists\n",
      "ln: warehouse_visualization.py: File exists\n"
     ]
    },
    {
     "output_type": "execute_result",
     "data": {
      "text/plain": [
       "               item month  sales  inventory  orders  order size  turnover\n",
       "0       Lawn Chairs   Jan      5         50       0          20    0.1000\n",
       "1       Lawn Chairs   Feb      8         45       0          20    0.1778\n",
       "2       Lawn Chairs   Mar     12         37       0          20    0.3243\n",
       "3       Lawn Chairs   Apr     12         25       1          20    0.4800\n",
       "4       Lawn Chairs   May     23         33       1          20    0.6970\n",
       "..              ...   ...    ...        ...     ...         ...       ...\n",
       "79  Flippy Floppies   Aug     90        168       1         100    0.5357\n",
       "80  Flippy Floppies   Sep     67        178       1         100    0.3764\n",
       "81  Flippy Floppies   Oct     78        211       1         100    0.3697\n",
       "82  Flippy Floppies   Nov     45        233       0         100    0.1931\n",
       "83  Flippy Floppies   Dec     65        188       0         100    0.3457\n",
       "\n",
       "[84 rows x 7 columns]"
      ],
      "text/html": "<div>\n<style scoped>\n    .dataframe tbody tr th:only-of-type {\n        vertical-align: middle;\n    }\n\n    .dataframe tbody tr th {\n        vertical-align: top;\n    }\n\n    .dataframe thead th {\n        text-align: right;\n    }\n</style>\n<table border=\"1\" class=\"dataframe\">\n  <thead>\n    <tr style=\"text-align: right;\">\n      <th></th>\n      <th>item</th>\n      <th>month</th>\n      <th>sales</th>\n      <th>inventory</th>\n      <th>orders</th>\n      <th>order size</th>\n      <th>turnover</th>\n    </tr>\n  </thead>\n  <tbody>\n    <tr>\n      <th>0</th>\n      <td>Lawn Chairs</td>\n      <td>Jan</td>\n      <td>5</td>\n      <td>50</td>\n      <td>0</td>\n      <td>20</td>\n      <td>0.1000</td>\n    </tr>\n    <tr>\n      <th>1</th>\n      <td>Lawn Chairs</td>\n      <td>Feb</td>\n      <td>8</td>\n      <td>45</td>\n      <td>0</td>\n      <td>20</td>\n      <td>0.1778</td>\n    </tr>\n    <tr>\n      <th>2</th>\n      <td>Lawn Chairs</td>\n      <td>Mar</td>\n      <td>12</td>\n      <td>37</td>\n      <td>0</td>\n      <td>20</td>\n      <td>0.3243</td>\n    </tr>\n    <tr>\n      <th>3</th>\n      <td>Lawn Chairs</td>\n      <td>Apr</td>\n      <td>12</td>\n      <td>25</td>\n      <td>1</td>\n      <td>20</td>\n      <td>0.4800</td>\n    </tr>\n    <tr>\n      <th>4</th>\n      <td>Lawn Chairs</td>\n      <td>May</td>\n      <td>23</td>\n      <td>33</td>\n      <td>1</td>\n      <td>20</td>\n      <td>0.6970</td>\n    </tr>\n    <tr>\n      <th>...</th>\n      <td>...</td>\n      <td>...</td>\n      <td>...</td>\n      <td>...</td>\n      <td>...</td>\n      <td>...</td>\n      <td>...</td>\n    </tr>\n    <tr>\n      <th>79</th>\n      <td>Flippy Floppies</td>\n      <td>Aug</td>\n      <td>90</td>\n      <td>168</td>\n      <td>1</td>\n      <td>100</td>\n      <td>0.5357</td>\n    </tr>\n    <tr>\n      <th>80</th>\n      <td>Flippy Floppies</td>\n      <td>Sep</td>\n      <td>67</td>\n      <td>178</td>\n      <td>1</td>\n      <td>100</td>\n      <td>0.3764</td>\n    </tr>\n    <tr>\n      <th>81</th>\n      <td>Flippy Floppies</td>\n      <td>Oct</td>\n      <td>78</td>\n      <td>211</td>\n      <td>1</td>\n      <td>100</td>\n      <td>0.3697</td>\n    </tr>\n    <tr>\n      <th>82</th>\n      <td>Flippy Floppies</td>\n      <td>Nov</td>\n      <td>45</td>\n      <td>233</td>\n      <td>0</td>\n      <td>100</td>\n      <td>0.1931</td>\n    </tr>\n    <tr>\n      <th>83</th>\n      <td>Flippy Floppies</td>\n      <td>Dec</td>\n      <td>65</td>\n      <td>188</td>\n      <td>0</td>\n      <td>100</td>\n      <td>0.3457</td>\n    </tr>\n  </tbody>\n</table>\n<p>84 rows × 7 columns</p>\n</div>"
     },
     "metadata": {},
     "execution_count": 1
    }
   ],
   "source": [
    "import numpy as np\n",
    "import pandas as pd\n",
    "\n",
    "df = pd.read_csv(\"historical.csv\")\n",
    "\n",
    "!ln -s /Users/kyle/Documents/projects/codefellows/code401Python/warehouse-organization-tool/warehouse_organization_tool/utilities/warehouse.py warehouse.py\n",
    "\n",
    "!ln -s /Users/kyle/Documents/projects/codefellows/code401Python/warehouse-organization-tool/warehouse_organization_tool/utilities/warehouse_visualization.py warehouse_visualization.py\n",
    "\n",
    "from warehouse_visualization import Warehouse_Visualization\n",
    "from warehouse import Warehouse\n",
    "\n",
    "df"
   ]
  },
  {
   "cell_type": "code",
   "execution_count": 2,
   "metadata": {},
   "outputs": [],
   "source": [
    "  warehouse = Warehouse_Visualization(df=df)\n",
    "  # place_shelves = warehouse.place_shelves()\n",
    "  # warehouse.plot_grid()"
   ]
  },
  {
   "cell_type": "code",
   "execution_count": 4,
   "metadata": {},
   "outputs": [
    {
     "output_type": "stream",
     "name": "stdout",
     "text": [
      "placed Waffle Irons\nplaced Crossbows\nplaced Umbrellas\nplaced Lawn Chairs\nplaced Pool Noodles\nplaced Flippy Floppies\nplaced Coolers\n[[['' '']\n  ['' '']\n  ['' '']\n  ['' '']\n  ['Pool Noodles' '']\n  ['Waffle Irons' '']]\n\n [['' '']\n  ['' '']\n  ['' '']\n  ['' '']\n  ['Flippy Floppies' '']\n  ['Crossbows' '']]\n\n [['' '']\n  ['' '']\n  ['' '']\n  ['' '']\n  ['Coolers' '']\n  ['Umbrellas' '']]\n\n [['' '']\n  ['' '']\n  ['' '']\n  ['' '']\n  ['' '']\n  ['Lawn Chairs' '']]]\n(2, 4, 0)\n"
     ]
    }
   ],
   "source": [
    "warehouse.place_shelves()\n",
    "warehouse.place_items()"
   ]
  },
  {
   "cell_type": "code",
   "execution_count": 5,
   "metadata": {},
   "outputs": [
    {
     "output_type": "error",
     "ename": "ValueError",
     "evalue": "shape mismatch: objects cannot be broadcast to a single shape",
     "traceback": [
      "\u001b[0;31m---------------------------------------------------------------------------\u001b[0m",
      "\u001b[0;31mValueError\u001b[0m                                Traceback (most recent call last)",
      "\u001b[0;32m<ipython-input-5-fd7e7f4cf850>\u001b[0m in \u001b[0;36m<module>\u001b[0;34m\u001b[0m\n\u001b[0;32m----> 1\u001b[0;31m \u001b[0mwarehouse\u001b[0m\u001b[0;34m.\u001b[0m\u001b[0mplot_grid\u001b[0m\u001b[0;34m(\u001b[0m\u001b[0;34m)\u001b[0m\u001b[0;34m\u001b[0m\u001b[0;34m\u001b[0m\u001b[0m\n\u001b[0m",
      "\u001b[0;32m~/Documents/projects/codefellows/code401Python/warehouse-organization-tool/warehouse_organization_tool/notebooks/warehouse_visualization.py\u001b[0m in \u001b[0;36mplot_grid\u001b[0;34m(self)\u001b[0m\n\u001b[1;32m     23\u001b[0m     \u001b[0mdz\u001b[0m \u001b[0;34m=\u001b[0m \u001b[0;34m[\u001b[0m\u001b[0mself\u001b[0m\u001b[0;34m.\u001b[0m\u001b[0mz_grid_space\u001b[0m \u001b[0;32mfor\u001b[0m \u001b[0m_\u001b[0m \u001b[0;32min\u001b[0m \u001b[0mrange\u001b[0m\u001b[0;34m(\u001b[0m\u001b[0mself\u001b[0m\u001b[0;34m.\u001b[0m\u001b[0mx_grid_space\u001b[0m\u001b[0;34m)\u001b[0m\u001b[0;34m]\u001b[0m\u001b[0;34m\u001b[0m\u001b[0;34m\u001b[0m\u001b[0m\n\u001b[1;32m     24\u001b[0m \u001b[0;34m\u001b[0m\u001b[0m\n\u001b[0;32m---> 25\u001b[0;31m     \u001b[0max1\u001b[0m\u001b[0;34m.\u001b[0m\u001b[0mbar3d\u001b[0m\u001b[0;34m(\u001b[0m\u001b[0mxpos\u001b[0m\u001b[0;34m,\u001b[0m\u001b[0mypos\u001b[0m\u001b[0;34m,\u001b[0m\u001b[0mzpos\u001b[0m\u001b[0;34m,\u001b[0m\u001b[0mdx\u001b[0m\u001b[0;34m,\u001b[0m\u001b[0mdy\u001b[0m\u001b[0;34m,\u001b[0m\u001b[0mdz\u001b[0m\u001b[0;34m)\u001b[0m\u001b[0;34m\u001b[0m\u001b[0;34m\u001b[0m\u001b[0m\n\u001b[0m\u001b[1;32m     26\u001b[0m \u001b[0;34m\u001b[0m\u001b[0m\n\u001b[1;32m     27\u001b[0m     \u001b[0;31m# plt.get_current_fig_manager().show()\u001b[0m\u001b[0;34m\u001b[0m\u001b[0;34m\u001b[0m\u001b[0;34m\u001b[0m\u001b[0m\n",
      "\u001b[0;32m~/Library/Caches/pypoetry/virtualenvs/warehouse-organization-tool-BIs1qb7V-py3.9/lib/python3.9/site-packages/mpl_toolkits/mplot3d/axes3d.py\u001b[0m in \u001b[0;36mbar3d\u001b[0;34m(self, x, y, z, dx, dy, dz, color, zsort, shade, lightsource, *args, **kwargs)\u001b[0m\n\u001b[1;32m   2539\u001b[0m         \u001b[0mhad_data\u001b[0m \u001b[0;34m=\u001b[0m \u001b[0mself\u001b[0m\u001b[0;34m.\u001b[0m\u001b[0mhas_data\u001b[0m\u001b[0;34m(\u001b[0m\u001b[0;34m)\u001b[0m\u001b[0;34m\u001b[0m\u001b[0;34m\u001b[0m\u001b[0m\n\u001b[1;32m   2540\u001b[0m \u001b[0;34m\u001b[0m\u001b[0m\n\u001b[0;32m-> 2541\u001b[0;31m         x, y, z, dx, dy, dz = np.broadcast_arrays(\n\u001b[0m\u001b[1;32m   2542\u001b[0m             np.atleast_1d(x), y, z, dx, dy, dz)\n\u001b[1;32m   2543\u001b[0m         \u001b[0mminx\u001b[0m \u001b[0;34m=\u001b[0m \u001b[0mnp\u001b[0m\u001b[0;34m.\u001b[0m\u001b[0mmin\u001b[0m\u001b[0;34m(\u001b[0m\u001b[0mx\u001b[0m\u001b[0;34m)\u001b[0m\u001b[0;34m\u001b[0m\u001b[0;34m\u001b[0m\u001b[0m\n",
      "\u001b[0;32m<__array_function__ internals>\u001b[0m in \u001b[0;36mbroadcast_arrays\u001b[0;34m(*args, **kwargs)\u001b[0m\n",
      "\u001b[0;32m~/Library/Caches/pypoetry/virtualenvs/warehouse-organization-tool-BIs1qb7V-py3.9/lib/python3.9/site-packages/numpy/lib/stride_tricks.py\u001b[0m in \u001b[0;36mbroadcast_arrays\u001b[0;34m(subok, *args)\u001b[0m\n\u001b[1;32m    536\u001b[0m     \u001b[0margs\u001b[0m \u001b[0;34m=\u001b[0m \u001b[0;34m[\u001b[0m\u001b[0mnp\u001b[0m\u001b[0;34m.\u001b[0m\u001b[0marray\u001b[0m\u001b[0;34m(\u001b[0m\u001b[0m_m\u001b[0m\u001b[0;34m,\u001b[0m \u001b[0mcopy\u001b[0m\u001b[0;34m=\u001b[0m\u001b[0;32mFalse\u001b[0m\u001b[0;34m,\u001b[0m \u001b[0msubok\u001b[0m\u001b[0;34m=\u001b[0m\u001b[0msubok\u001b[0m\u001b[0;34m)\u001b[0m \u001b[0;32mfor\u001b[0m \u001b[0m_m\u001b[0m \u001b[0;32min\u001b[0m \u001b[0margs\u001b[0m\u001b[0;34m]\u001b[0m\u001b[0;34m\u001b[0m\u001b[0;34m\u001b[0m\u001b[0m\n\u001b[1;32m    537\u001b[0m \u001b[0;34m\u001b[0m\u001b[0m\n\u001b[0;32m--> 538\u001b[0;31m     \u001b[0mshape\u001b[0m \u001b[0;34m=\u001b[0m \u001b[0m_broadcast_shape\u001b[0m\u001b[0;34m(\u001b[0m\u001b[0;34m*\u001b[0m\u001b[0margs\u001b[0m\u001b[0;34m)\u001b[0m\u001b[0;34m\u001b[0m\u001b[0;34m\u001b[0m\u001b[0m\n\u001b[0m\u001b[1;32m    539\u001b[0m \u001b[0;34m\u001b[0m\u001b[0m\n\u001b[1;32m    540\u001b[0m     \u001b[0;32mif\u001b[0m \u001b[0mall\u001b[0m\u001b[0;34m(\u001b[0m\u001b[0marray\u001b[0m\u001b[0;34m.\u001b[0m\u001b[0mshape\u001b[0m \u001b[0;34m==\u001b[0m \u001b[0mshape\u001b[0m \u001b[0;32mfor\u001b[0m \u001b[0marray\u001b[0m \u001b[0;32min\u001b[0m \u001b[0margs\u001b[0m\u001b[0;34m)\u001b[0m\u001b[0;34m:\u001b[0m\u001b[0;34m\u001b[0m\u001b[0;34m\u001b[0m\u001b[0m\n",
      "\u001b[0;32m~/Library/Caches/pypoetry/virtualenvs/warehouse-organization-tool-BIs1qb7V-py3.9/lib/python3.9/site-packages/numpy/lib/stride_tricks.py\u001b[0m in \u001b[0;36m_broadcast_shape\u001b[0;34m(*args)\u001b[0m\n\u001b[1;32m    418\u001b[0m     \u001b[0;31m# use the old-iterator because np.nditer does not handle size 0 arrays\u001b[0m\u001b[0;34m\u001b[0m\u001b[0;34m\u001b[0m\u001b[0;34m\u001b[0m\u001b[0m\n\u001b[1;32m    419\u001b[0m     \u001b[0;31m# consistently\u001b[0m\u001b[0;34m\u001b[0m\u001b[0;34m\u001b[0m\u001b[0;34m\u001b[0m\u001b[0m\n\u001b[0;32m--> 420\u001b[0;31m     \u001b[0mb\u001b[0m \u001b[0;34m=\u001b[0m \u001b[0mnp\u001b[0m\u001b[0;34m.\u001b[0m\u001b[0mbroadcast\u001b[0m\u001b[0;34m(\u001b[0m\u001b[0;34m*\u001b[0m\u001b[0margs\u001b[0m\u001b[0;34m[\u001b[0m\u001b[0;34m:\u001b[0m\u001b[0;36m32\u001b[0m\u001b[0;34m]\u001b[0m\u001b[0;34m)\u001b[0m\u001b[0;34m\u001b[0m\u001b[0;34m\u001b[0m\u001b[0m\n\u001b[0m\u001b[1;32m    421\u001b[0m     \u001b[0;31m# unfortunately, it cannot handle 32 or more arguments directly\u001b[0m\u001b[0;34m\u001b[0m\u001b[0;34m\u001b[0m\u001b[0;34m\u001b[0m\u001b[0m\n\u001b[1;32m    422\u001b[0m     \u001b[0;32mfor\u001b[0m \u001b[0mpos\u001b[0m \u001b[0;32min\u001b[0m \u001b[0mrange\u001b[0m\u001b[0;34m(\u001b[0m\u001b[0;36m32\u001b[0m\u001b[0;34m,\u001b[0m \u001b[0mlen\u001b[0m\u001b[0;34m(\u001b[0m\u001b[0margs\u001b[0m\u001b[0;34m)\u001b[0m\u001b[0;34m,\u001b[0m \u001b[0;36m31\u001b[0m\u001b[0;34m)\u001b[0m\u001b[0;34m:\u001b[0m\u001b[0;34m\u001b[0m\u001b[0;34m\u001b[0m\u001b[0m\n",
      "\u001b[0;31mValueError\u001b[0m: shape mismatch: objects cannot be broadcast to a single shape"
     ]
    }
   ],
   "source": [
    "warehouse.plot_grid()"
   ]
  },
  {
   "cell_type": "code",
   "execution_count": null,
   "metadata": {},
   "outputs": [],
   "source": []
  }
 ]
}